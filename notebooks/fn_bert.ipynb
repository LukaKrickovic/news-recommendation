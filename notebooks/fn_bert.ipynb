{
 "cells": [
  {
   "cell_type": "code",
   "execution_count": 29,
   "metadata": {
    "colab": {
     "base_uri": "https://localhost:8080/"
    },
    "executionInfo": {
     "elapsed": 11245,
     "status": "ok",
     "timestamp": 1650910077637,
     "user": {
      "displayName": "Djordjije Kundacina",
      "userId": "14953981034680478152"
     },
     "user_tz": -120
    },
    "id": "4WD4cWPwS8_D",
    "outputId": "b2f2a157-0054-4b0b-9b4c-ff7aebd3d90d"
   },
   "outputs": [
    {
     "name": "stdout",
     "output_type": "stream",
     "text": [
      "Requirement already satisfied: transformers[torch] in c:\\users\\krick\\anaconda3\\envs\\nm\\lib\\site-packages (4.16.2)\n",
      "Requirement already satisfied: huggingface-hub<1.0,>=0.1.0 in c:\\users\\krick\\anaconda3\\envs\\nm\\lib\\site-packages (from transformers[torch]) (0.4.0)\n",
      "Requirement already satisfied: numpy>=1.17 in c:\\users\\krick\\anaconda3\\envs\\nm\\lib\\site-packages (from transformers[torch]) (1.21.5)\n",
      "Requirement already satisfied: tokenizers!=0.11.3,>=0.10.1 in c:\\users\\krick\\anaconda3\\envs\\nm\\lib\\site-packages (from transformers[torch]) (0.11.5)\n",
      "Requirement already satisfied: pyyaml>=5.1 in c:\\users\\krick\\anaconda3\\envs\\nm\\lib\\site-packages (from transformers[torch]) (5.4.1)\n",
      "Requirement already satisfied: tqdm>=4.27 in c:\\users\\krick\\anaconda3\\envs\\nm\\lib\\site-packages (from transformers[torch]) (4.62.3)\n",
      "Requirement already satisfied: regex!=2019.12.17 in c:\\users\\krick\\anaconda3\\envs\\nm\\lib\\site-packages (from transformers[torch]) (2021.8.3)\n",
      "Requirement already satisfied: filelock in c:\\users\\krick\\anaconda3\\envs\\nm\\lib\\site-packages (from transformers[torch]) (3.6.0)\n",
      "Requirement already satisfied: requests in c:\\users\\krick\\anaconda3\\envs\\nm\\lib\\site-packages (from transformers[torch]) (2.27.1)\n",
      "Requirement already satisfied: sacremoses in c:\\users\\krick\\anaconda3\\envs\\nm\\lib\\site-packages (from transformers[torch]) (0.0.47)\n",
      "Requirement already satisfied: packaging>=20.0 in c:\\users\\krick\\anaconda3\\envs\\nm\\lib\\site-packages (from transformers[torch]) (21.3)\n",
      "Requirement already satisfied: importlib-metadata in c:\\users\\krick\\anaconda3\\envs\\nm\\lib\\site-packages (from transformers[torch]) (4.8.2)\n",
      "Requirement already satisfied: torch>=1.0 in c:\\users\\krick\\anaconda3\\envs\\nm\\lib\\site-packages (from transformers[torch]) (1.11.0)\n",
      "Requirement already satisfied: typing-extensions>=3.7.4.3 in c:\\users\\krick\\anaconda3\\envs\\nm\\lib\\site-packages (from huggingface-hub<1.0,>=0.1.0->transformers[torch]) (3.10.0.2)\n",
      "Requirement already satisfied: pyparsing!=3.0.5,>=2.0.2 in c:\\users\\krick\\anaconda3\\envs\\nm\\lib\\site-packages (from packaging>=20.0->transformers[torch]) (3.0.4)\n",
      "Requirement already satisfied: colorama in c:\\users\\krick\\anaconda3\\envs\\nm\\lib\\site-packages (from tqdm>=4.27->transformers[torch]) (0.4.4)\n",
      "Requirement already satisfied: zipp>=0.5 in c:\\users\\krick\\anaconda3\\envs\\nm\\lib\\site-packages (from importlib-metadata->transformers[torch]) (3.7.0)\n",
      "Requirement already satisfied: certifi>=2017.4.17 in c:\\users\\krick\\anaconda3\\envs\\nm\\lib\\site-packages (from requests->transformers[torch]) (2021.10.8)\n",
      "Requirement already satisfied: charset-normalizer~=2.0.0 in c:\\users\\krick\\anaconda3\\envs\\nm\\lib\\site-packages (from requests->transformers[torch]) (2.0.4)\n",
      "Requirement already satisfied: urllib3<1.27,>=1.21.1 in c:\\users\\krick\\anaconda3\\envs\\nm\\lib\\site-packages (from requests->transformers[torch]) (1.26.8)\n",
      "Requirement already satisfied: idna<4,>=2.5 in c:\\users\\krick\\anaconda3\\envs\\nm\\lib\\site-packages (from requests->transformers[torch]) (3.3)\n",
      "Requirement already satisfied: six in c:\\users\\krick\\anaconda3\\envs\\nm\\lib\\site-packages (from sacremoses->transformers[torch]) (1.16.0)\n",
      "Requirement already satisfied: click in c:\\users\\krick\\anaconda3\\envs\\nm\\lib\\site-packages (from sacremoses->transformers[torch]) (8.0.3)\n",
      "Requirement already satisfied: joblib in c:\\users\\krick\\anaconda3\\envs\\nm\\lib\\site-packages (from sacremoses->transformers[torch]) (1.1.0)\n"
     ]
    }
   ],
   "source": [
    "!pip install transformers[torch]"
   ]
  },
  {
   "cell_type": "code",
   "execution_count": 30,
   "metadata": {
    "colab": {
     "base_uri": "https://localhost:8080/"
    },
    "executionInfo": {
     "elapsed": 10689,
     "status": "ok",
     "timestamp": 1650910090633,
     "user": {
      "displayName": "Djordjije Kundacina",
      "userId": "14953981034680478152"
     },
     "user_tz": -120
    },
    "id": "D9y7iV5ITBRE",
    "outputId": "89c47307-5505-49b2-fb41-831205cd71a1"
   },
   "outputs": [
    {
     "data": {
      "text/plain": [
       "<torch._C.Generator at 0x1507b1a7030>"
      ]
     },
     "execution_count": 30,
     "metadata": {},
     "output_type": "execute_result"
    }
   ],
   "source": [
    "import pandas as pd\n",
    "from transformers import BertTokenizer, BertModel\n",
    "from sklearn.model_selection import train_test_split\n",
    "from sklearn.svm import SVC\n",
    "import pathlib\n",
    "import torch\n",
    "import matplotlib.pyplot as plt\n",
    "import numpy as np\n",
    "from sklearn.metrics import accuracy_score\n",
    "from tqdm import tqdm\n",
    "\n",
    "import re\n",
    "import pickle\n",
    "torch.manual_seed(21)"
   ]
  },
  {
   "cell_type": "markdown",
   "metadata": {},
   "source": [
    "Uzimamo samo trecinu polaznog skupa, jer nismo imali resursa da istreniramo nad celim"
   ]
  },
  {
   "cell_type": "code",
   "execution_count": 32,
   "metadata": {
    "colab": {
     "base_uri": "https://localhost:8080/",
     "height": 571
    },
    "executionInfo": {
     "elapsed": 3903,
     "status": "ok",
     "timestamp": 1650909854501,
     "user": {
      "displayName": "Djordjije Kundacina",
      "userId": "14953981034680478152"
     },
     "user_tz": -120
    },
    "id": "UQD9tCrqYIPR",
    "outputId": "d3b0c4c9-76f0-4945-9fb9-f97e8a20bbf9"
   },
   "outputs": [
    {
     "name": "stdout",
     "output_type": "stream",
     "text": [
      "<class 'pandas.core.frame.DataFrame'>\n",
      "Int64Index: 16516 entries, 4605 to 39567\n",
      "Data columns (total 5 columns):\n",
      " #   Column   Non-Null Count  Dtype \n",
      "---  ------   --------------  ----- \n",
      " 0   title    16516 non-null  object\n",
      " 1   text     16514 non-null  object\n",
      " 2   subject  16516 non-null  object\n",
      " 3   date     11421 non-null  object\n",
      " 4   fake     16516 non-null  bool  \n",
      "dtypes: bool(1), object(4)\n",
      "memory usage: 661.3+ KB\n"
     ]
    },
    {
     "data": {
      "text/html": [
       "<div>\n",
       "<style scoped>\n",
       "    .dataframe tbody tr th:only-of-type {\n",
       "        vertical-align: middle;\n",
       "    }\n",
       "\n",
       "    .dataframe tbody tr th {\n",
       "        vertical-align: top;\n",
       "    }\n",
       "\n",
       "    .dataframe thead th {\n",
       "        text-align: right;\n",
       "    }\n",
       "</style>\n",
       "<table border=\"1\" class=\"dataframe\">\n",
       "  <thead>\n",
       "    <tr style=\"text-align: right;\">\n",
       "      <th></th>\n",
       "      <th>title</th>\n",
       "      <th>text</th>\n",
       "      <th>subject</th>\n",
       "      <th>date</th>\n",
       "      <th>fake</th>\n",
       "    </tr>\n",
       "  </thead>\n",
       "  <tbody>\n",
       "    <tr>\n",
       "      <th>4605</th>\n",
       "      <td>Clinton, Trump draw battle lines for ill-tempe...</td>\n",
       "      <td>WASHINGTON (Reuters) - U.S. presidential candi...</td>\n",
       "      <td>politicsNews</td>\n",
       "      <td>June 6, 2016</td>\n",
       "      <td>False</td>\n",
       "    </tr>\n",
       "    <tr>\n",
       "      <th>39946</th>\n",
       "      <td>ON THE MOVE: [Video] Iranians, Russians And Sy...</td>\n",
       "      <td>How many more days remain in our Community Org...</td>\n",
       "      <td>politics</td>\n",
       "      <td>Sep 25, 2015</td>\n",
       "      <td>True</td>\n",
       "    </tr>\n",
       "    <tr>\n",
       "      <th>22767</th>\n",
       "      <td>Michigan cancer doctor gets 45 years in prison</td>\n",
       "      <td>(CNN) A   doctor who authorities say gave can...</td>\n",
       "      <td>various</td>\n",
       "      <td>NaN</td>\n",
       "      <td>False</td>\n",
       "    </tr>\n",
       "    <tr>\n",
       "      <th>47996</th>\n",
       "      <td>CIA GATEKEEPER? CNN’s Chris Cuomo says America...</td>\n",
       "      <td>21st Century Wire says CNN s Chris Cuomo (ima...</td>\n",
       "      <td>Middle-east</td>\n",
       "      <td>October 20, 2016</td>\n",
       "      <td>True</td>\n",
       "    </tr>\n",
       "    <tr>\n",
       "      <th>8013</th>\n",
       "      <td>France, keen to avoid student anger, plans 1-b...</td>\n",
       "      <td>PARIS (Reuters) - France announced a one-billi...</td>\n",
       "      <td>worldnews</td>\n",
       "      <td>October 30, 2017</td>\n",
       "      <td>False</td>\n",
       "    </tr>\n",
       "    <tr>\n",
       "      <th>5941</th>\n",
       "      <td>Eurosceptics baulk as May pitches status quo B...</td>\n",
       "      <td>LONDON (Reuters) - British Prime Minister Ther...</td>\n",
       "      <td>worldnews</td>\n",
       "      <td>December 18, 2017</td>\n",
       "      <td>False</td>\n",
       "    </tr>\n",
       "    <tr>\n",
       "      <th>8438</th>\n",
       "      <td>China summons British official over Hong Kong ...</td>\n",
       "      <td>BEIJING (Reuters) - China has summoned a Briti...</td>\n",
       "      <td>worldnews</td>\n",
       "      <td>October 20, 2017</td>\n",
       "      <td>False</td>\n",
       "    </tr>\n",
       "    <tr>\n",
       "      <th>28559</th>\n",
       "      <td>It’s Really Happening: Trump Adviser Lays Out...</td>\n",
       "      <td>Well, that didn t take long. In the short time...</td>\n",
       "      <td>News</td>\n",
       "      <td>November 16, 2016</td>\n",
       "      <td>True</td>\n",
       "    </tr>\n",
       "    <tr>\n",
       "      <th>46355</th>\n",
       "      <td>TRUMP THREATENS TO SUE ILLEGAL IMMIGRANT ACTIV...</td>\n",
       "      <td>America better wake up and realize we are quic...</td>\n",
       "      <td>left-news</td>\n",
       "      <td>Jul 9, 2015</td>\n",
       "      <td>True</td>\n",
       "    </tr>\n",
       "    <tr>\n",
       "      <th>5658</th>\n",
       "      <td>Brexit deal could be template for EU ties to U...</td>\n",
       "      <td>BERLIN (Reuters) - An EU agreement with Britai...</td>\n",
       "      <td>worldnews</td>\n",
       "      <td>December 26, 2017</td>\n",
       "      <td>False</td>\n",
       "    </tr>\n",
       "  </tbody>\n",
       "</table>\n",
       "</div>"
      ],
      "text/plain": [
       "                                                   title  \\\n",
       "4605   Clinton, Trump draw battle lines for ill-tempe...   \n",
       "39946  ON THE MOVE: [Video] Iranians, Russians And Sy...   \n",
       "22767     Michigan cancer doctor gets 45 years in prison   \n",
       "47996  CIA GATEKEEPER? CNN’s Chris Cuomo says America...   \n",
       "8013   France, keen to avoid student anger, plans 1-b...   \n",
       "5941   Eurosceptics baulk as May pitches status quo B...   \n",
       "8438   China summons British official over Hong Kong ...   \n",
       "28559   It’s Really Happening: Trump Adviser Lays Out...   \n",
       "46355  TRUMP THREATENS TO SUE ILLEGAL IMMIGRANT ACTIV...   \n",
       "5658   Brexit deal could be template for EU ties to U...   \n",
       "\n",
       "                                                    text       subject  \\\n",
       "4605   WASHINGTON (Reuters) - U.S. presidential candi...  politicsNews   \n",
       "39946  How many more days remain in our Community Org...      politics   \n",
       "22767   (CNN) A   doctor who authorities say gave can...       various   \n",
       "47996   21st Century Wire says CNN s Chris Cuomo (ima...   Middle-east   \n",
       "8013   PARIS (Reuters) - France announced a one-billi...     worldnews   \n",
       "5941   LONDON (Reuters) - British Prime Minister Ther...     worldnews   \n",
       "8438   BEIJING (Reuters) - China has summoned a Briti...     worldnews   \n",
       "28559  Well, that didn t take long. In the short time...          News   \n",
       "46355  America better wake up and realize we are quic...     left-news   \n",
       "5658   BERLIN (Reuters) - An EU agreement with Britai...     worldnews   \n",
       "\n",
       "                     date   fake  \n",
       "4605        June 6, 2016   False  \n",
       "39946        Sep 25, 2015   True  \n",
       "22767                 NaN  False  \n",
       "47996    October 20, 2016   True  \n",
       "8013    October 30, 2017   False  \n",
       "5941   December 18, 2017   False  \n",
       "8438    October 20, 2017   False  \n",
       "28559   November 16, 2016   True  \n",
       "46355         Jul 9, 2015   True  \n",
       "5658   December 26, 2017   False  "
      ]
     },
     "execution_count": 32,
     "metadata": {},
     "output_type": "execute_result"
    }
   ],
   "source": [
    "df = pd.read_csv('../datasets/fake-news/balansed_fake_news_dataset.csv')\n",
    "\n",
    "df = df.sample(n=int(df.shape[0] / 3))\n",
    "df.info()\n",
    "df.head(10)"
   ]
  },
  {
   "cell_type": "markdown",
   "metadata": {
    "id": "azXdXFZgYbdu"
   },
   "source": [
    "# New Section"
   ]
  },
  {
   "cell_type": "code",
   "execution_count": 33,
   "metadata": {
    "executionInfo": {
     "elapsed": 2154,
     "status": "ok",
     "timestamp": 1650890246237,
     "user": {
      "displayName": "Djordjije Kundacina",
      "userId": "14953981034680478152"
     },
     "user_tz": -120
    },
    "id": "Bs-BlkVQYaLz"
   },
   "outputs": [],
   "source": [
    "df['word_count'] = df['text'].str.count(' ') + 1"
   ]
  },
  {
   "cell_type": "code",
   "execution_count": 34,
   "metadata": {
    "executionInfo": {
     "elapsed": 404,
     "status": "ok",
     "timestamp": 1650890248482,
     "user": {
      "displayName": "Djordjije Kundacina",
      "userId": "14953981034680478152"
     },
     "user_tz": -120
    },
    "id": "YZVCdbL1YaWK"
   },
   "outputs": [],
   "source": [
    "def simple_text_clean(x):\n",
    "  x = str(x)\n",
    "\n",
    "  x = x.lower()\n",
    "  x = x.encode('ascii', 'ignore').decode()\n",
    "  x = re.sub(r'https*\\S+', ' ', x)\n",
    "  x = re.sub(r'http*\\S+', ' ', x)\n",
    "  x = re.sub(r'\\'\\w+', '', x)\n",
    "  x = re.sub(r'\\w*\\d+\\w*', '', x)\n",
    "  x = re.sub(r'\\s{2,}', ' ', x)\n",
    "  x = re.sub(r'\\s[^\\w\\s]\\s', '', x)\n",
    "  return x"
   ]
  },
  {
   "cell_type": "code",
   "execution_count": 35,
   "metadata": {
    "executionInfo": {
     "elapsed": 30782,
     "status": "ok",
     "timestamp": 1650890281235,
     "user": {
      "displayName": "Djordjije Kundacina",
      "userId": "14953981034680478152"
     },
     "user_tz": -120
    },
    "id": "24tmos_CYaYe"
   },
   "outputs": [],
   "source": [
    "df['cleaned_text'] = df['text'].apply(simple_text_clean)"
   ]
  },
  {
   "cell_type": "code",
   "execution_count": 36,
   "metadata": {
    "executionInfo": {
     "elapsed": 1534,
     "status": "ok",
     "timestamp": 1650890285677,
     "user": {
      "displayName": "Djordjije Kundacina",
      "userId": "14953981034680478152"
     },
     "user_tz": -120
    },
    "id": "LmypYC14Yaau"
   },
   "outputs": [],
   "source": [
    "df['word_count_cleaned'] = df['cleaned_text'].str.count(' ') + 1"
   ]
  },
  {
   "cell_type": "code",
   "execution_count": 37,
   "metadata": {
    "colab": {
     "base_uri": "https://localhost:8080/",
     "height": 581
    },
    "executionInfo": {
     "elapsed": 29,
     "status": "ok",
     "timestamp": 1650890287921,
     "user": {
      "displayName": "Djordjije Kundacina",
      "userId": "14953981034680478152"
     },
     "user_tz": -120
    },
    "id": "5yMiwDF0YadP",
    "outputId": "10e225e9-eabe-4680-c008-99d97f57f5e2"
   },
   "outputs": [
    {
     "data": {
      "text/html": [
       "<div>\n",
       "<style scoped>\n",
       "    .dataframe tbody tr th:only-of-type {\n",
       "        vertical-align: middle;\n",
       "    }\n",
       "\n",
       "    .dataframe tbody tr th {\n",
       "        vertical-align: top;\n",
       "    }\n",
       "\n",
       "    .dataframe thead th {\n",
       "        text-align: right;\n",
       "    }\n",
       "</style>\n",
       "<table border=\"1\" class=\"dataframe\">\n",
       "  <thead>\n",
       "    <tr style=\"text-align: right;\">\n",
       "      <th></th>\n",
       "      <th>title</th>\n",
       "      <th>text</th>\n",
       "      <th>subject</th>\n",
       "      <th>date</th>\n",
       "      <th>fake</th>\n",
       "      <th>word_count</th>\n",
       "      <th>cleaned_text</th>\n",
       "      <th>word_count_cleaned</th>\n",
       "    </tr>\n",
       "  </thead>\n",
       "  <tbody>\n",
       "    <tr>\n",
       "      <th>4605</th>\n",
       "      <td>Clinton, Trump draw battle lines for ill-tempe...</td>\n",
       "      <td>WASHINGTON (Reuters) - U.S. presidential candi...</td>\n",
       "      <td>politicsNews</td>\n",
       "      <td>June 6, 2016</td>\n",
       "      <td>False</td>\n",
       "      <td>954.0</td>\n",
       "      <td>washington (reuters)u.s. presidential candidat...</td>\n",
       "      <td>909</td>\n",
       "    </tr>\n",
       "    <tr>\n",
       "      <th>39946</th>\n",
       "      <td>ON THE MOVE: [Video] Iranians, Russians And Sy...</td>\n",
       "      <td>How many more days remain in our Community Org...</td>\n",
       "      <td>politics</td>\n",
       "      <td>Sep 25, 2015</td>\n",
       "      <td>True</td>\n",
       "      <td>791.0</td>\n",
       "      <td>how many more days remain in our community org...</td>\n",
       "      <td>759</td>\n",
       "    </tr>\n",
       "    <tr>\n",
       "      <th>22767</th>\n",
       "      <td>Michigan cancer doctor gets 45 years in prison</td>\n",
       "      <td>(CNN) A   doctor who authorities say gave can...</td>\n",
       "      <td>various</td>\n",
       "      <td>NaN</td>\n",
       "      <td>False</td>\n",
       "      <td>933.0</td>\n",
       "      <td>(cnn) a doctor who authorities say gave cance...</td>\n",
       "      <td>876</td>\n",
       "    </tr>\n",
       "    <tr>\n",
       "      <th>47996</th>\n",
       "      <td>CIA GATEKEEPER? CNN’s Chris Cuomo says America...</td>\n",
       "      <td>21st Century Wire says CNN s Chris Cuomo (ima...</td>\n",
       "      <td>Middle-east</td>\n",
       "      <td>October 20, 2016</td>\n",
       "      <td>True</td>\n",
       "      <td>521.0</td>\n",
       "      <td>century wire says cnn s chris cuomo (image, a...</td>\n",
       "      <td>488</td>\n",
       "    </tr>\n",
       "    <tr>\n",
       "      <th>8013</th>\n",
       "      <td>France, keen to avoid student anger, plans 1-b...</td>\n",
       "      <td>PARIS (Reuters) - France announced a one-billi...</td>\n",
       "      <td>worldnews</td>\n",
       "      <td>October 30, 2017</td>\n",
       "      <td>False</td>\n",
       "      <td>384.0</td>\n",
       "      <td>paris (reuters)france announced a one-billion-...</td>\n",
       "      <td>362</td>\n",
       "    </tr>\n",
       "    <tr>\n",
       "      <th>5941</th>\n",
       "      <td>Eurosceptics baulk as May pitches status quo B...</td>\n",
       "      <td>LONDON (Reuters) - British Prime Minister Ther...</td>\n",
       "      <td>worldnews</td>\n",
       "      <td>December 18, 2017</td>\n",
       "      <td>False</td>\n",
       "      <td>578.0</td>\n",
       "      <td>london (reuters)british prime minister theresa...</td>\n",
       "      <td>549</td>\n",
       "    </tr>\n",
       "    <tr>\n",
       "      <th>8438</th>\n",
       "      <td>China summons British official over Hong Kong ...</td>\n",
       "      <td>BEIJING (Reuters) - China has summoned a Briti...</td>\n",
       "      <td>worldnews</td>\n",
       "      <td>October 20, 2017</td>\n",
       "      <td>False</td>\n",
       "      <td>278.0</td>\n",
       "      <td>beijing (reuters)china has summoned a british ...</td>\n",
       "      <td>262</td>\n",
       "    </tr>\n",
       "    <tr>\n",
       "      <th>28559</th>\n",
       "      <td>It’s Really Happening: Trump Adviser Lays Out...</td>\n",
       "      <td>Well, that didn t take long. In the short time...</td>\n",
       "      <td>News</td>\n",
       "      <td>November 16, 2016</td>\n",
       "      <td>True</td>\n",
       "      <td>534.0</td>\n",
       "      <td>well, that didn t take long. in the short time...</td>\n",
       "      <td>521</td>\n",
       "    </tr>\n",
       "    <tr>\n",
       "      <th>46355</th>\n",
       "      <td>TRUMP THREATENS TO SUE ILLEGAL IMMIGRANT ACTIV...</td>\n",
       "      <td>America better wake up and realize we are quic...</td>\n",
       "      <td>left-news</td>\n",
       "      <td>Jul 9, 2015</td>\n",
       "      <td>True</td>\n",
       "      <td>597.0</td>\n",
       "      <td>america better wake up and realize we are quic...</td>\n",
       "      <td>577</td>\n",
       "    </tr>\n",
       "    <tr>\n",
       "      <th>5658</th>\n",
       "      <td>Brexit deal could be template for EU ties to U...</td>\n",
       "      <td>BERLIN (Reuters) - An EU agreement with Britai...</td>\n",
       "      <td>worldnews</td>\n",
       "      <td>December 26, 2017</td>\n",
       "      <td>False</td>\n",
       "      <td>378.0</td>\n",
       "      <td>berlin (reuters)an eu agreement with britain o...</td>\n",
       "      <td>359</td>\n",
       "    </tr>\n",
       "  </tbody>\n",
       "</table>\n",
       "</div>"
      ],
      "text/plain": [
       "                                                   title  \\\n",
       "4605   Clinton, Trump draw battle lines for ill-tempe...   \n",
       "39946  ON THE MOVE: [Video] Iranians, Russians And Sy...   \n",
       "22767     Michigan cancer doctor gets 45 years in prison   \n",
       "47996  CIA GATEKEEPER? CNN’s Chris Cuomo says America...   \n",
       "8013   France, keen to avoid student anger, plans 1-b...   \n",
       "5941   Eurosceptics baulk as May pitches status quo B...   \n",
       "8438   China summons British official over Hong Kong ...   \n",
       "28559   It’s Really Happening: Trump Adviser Lays Out...   \n",
       "46355  TRUMP THREATENS TO SUE ILLEGAL IMMIGRANT ACTIV...   \n",
       "5658   Brexit deal could be template for EU ties to U...   \n",
       "\n",
       "                                                    text       subject  \\\n",
       "4605   WASHINGTON (Reuters) - U.S. presidential candi...  politicsNews   \n",
       "39946  How many more days remain in our Community Org...      politics   \n",
       "22767   (CNN) A   doctor who authorities say gave can...       various   \n",
       "47996   21st Century Wire says CNN s Chris Cuomo (ima...   Middle-east   \n",
       "8013   PARIS (Reuters) - France announced a one-billi...     worldnews   \n",
       "5941   LONDON (Reuters) - British Prime Minister Ther...     worldnews   \n",
       "8438   BEIJING (Reuters) - China has summoned a Briti...     worldnews   \n",
       "28559  Well, that didn t take long. In the short time...          News   \n",
       "46355  America better wake up and realize we are quic...     left-news   \n",
       "5658   BERLIN (Reuters) - An EU agreement with Britai...     worldnews   \n",
       "\n",
       "                     date   fake  word_count  \\\n",
       "4605        June 6, 2016   False       954.0   \n",
       "39946        Sep 25, 2015   True       791.0   \n",
       "22767                 NaN  False       933.0   \n",
       "47996    October 20, 2016   True       521.0   \n",
       "8013    October 30, 2017   False       384.0   \n",
       "5941   December 18, 2017   False       578.0   \n",
       "8438    October 20, 2017   False       278.0   \n",
       "28559   November 16, 2016   True       534.0   \n",
       "46355         Jul 9, 2015   True       597.0   \n",
       "5658   December 26, 2017   False       378.0   \n",
       "\n",
       "                                            cleaned_text  word_count_cleaned  \n",
       "4605   washington (reuters)u.s. presidential candidat...                 909  \n",
       "39946  how many more days remain in our community org...                 759  \n",
       "22767   (cnn) a doctor who authorities say gave cance...                 876  \n",
       "47996   century wire says cnn s chris cuomo (image, a...                 488  \n",
       "8013   paris (reuters)france announced a one-billion-...                 362  \n",
       "5941   london (reuters)british prime minister theresa...                 549  \n",
       "8438   beijing (reuters)china has summoned a british ...                 262  \n",
       "28559  well, that didn t take long. in the short time...                 521  \n",
       "46355  america better wake up and realize we are quic...                 577  \n",
       "5658   berlin (reuters)an eu agreement with britain o...                 359  "
      ]
     },
     "execution_count": 37,
     "metadata": {},
     "output_type": "execute_result"
    }
   ],
   "source": [
    "df.head(10)"
   ]
  },
  {
   "cell_type": "code",
   "execution_count": 38,
   "metadata": {
    "executionInfo": {
     "elapsed": 5,
     "status": "ok",
     "timestamp": 1650890291885,
     "user": {
      "displayName": "Djordjije Kundacina",
      "userId": "14953981034680478152"
     },
     "user_tz": -120
    },
    "id": "BEbGDLxRYafh"
   },
   "outputs": [],
   "source": [
    "MAX_PARAGRAF = 400\n",
    "STEP = 220\n",
    "\n",
    "def splitIntoParagrafs(text, words):\n",
    "  paragrafs = []\n",
    "  if words < MAX_PARAGRAF:\n",
    "    return [text]\n",
    "  else:\n",
    "    start = 0\n",
    "    end = MAX_PARAGRAF\n",
    "    tokens = text.split(' ')\n",
    "    while start < words:\n",
    "      paragrafs.append(' '.join(tokens[start:end]))\n",
    "      start += STEP\n",
    "      end += STEP\n",
    "\n",
    "  return paragrafs\n",
    "\n"
   ]
  },
  {
   "cell_type": "code",
   "execution_count": 39,
   "metadata": {
    "colab": {
     "base_uri": "https://localhost:8080/"
    },
    "executionInfo": {
     "elapsed": 954222,
     "status": "ok",
     "timestamp": 1650891470210,
     "user": {
      "displayName": "Djordjije Kundacina",
      "userId": "14953981034680478152"
     },
     "user_tz": -120
    },
    "id": "6UDsCEYkYahh",
    "outputId": "3c4215e6-b8d9-4353-e4ef-0495af7157c2"
   },
   "outputs": [
    {
     "name": "stderr",
     "output_type": "stream",
     "text": [
      "100%|██████████| 16516/16516 [01:24<00:00, 195.21it/s]\n"
     ]
    }
   ],
   "source": [
    "tokenizer_df = pd.DataFrame(columns=['text', 'target'])\n",
    "\n",
    "\n",
    "for i in tqdm(range(len(df))):\n",
    "  for j in splitIntoParagrafs(df.iloc[i, 6], df.iloc[i, 7]):\n",
    "    tokenizer_df = tokenizer_df.append({'text': j, 'target': df.iloc[i, 4]}, ignore_index=True)\n"
   ]
  },
  {
   "cell_type": "code",
   "execution_count": 40,
   "metadata": {
    "colab": {
     "base_uri": "https://localhost:8080/",
     "height": 363
    },
    "executionInfo": {
     "elapsed": 466,
     "status": "ok",
     "timestamp": 1650891655040,
     "user": {
      "displayName": "Djordjije Kundacina",
      "userId": "14953981034680478152"
     },
     "user_tz": -120
    },
    "id": "Gms-XuhbhrSm",
    "outputId": "49c20d34-1122-415c-cd75-b026e1355477"
   },
   "outputs": [
    {
     "data": {
      "text/html": [
       "<div>\n",
       "<style scoped>\n",
       "    .dataframe tbody tr th:only-of-type {\n",
       "        vertical-align: middle;\n",
       "    }\n",
       "\n",
       "    .dataframe tbody tr th {\n",
       "        vertical-align: top;\n",
       "    }\n",
       "\n",
       "    .dataframe thead th {\n",
       "        text-align: right;\n",
       "    }\n",
       "</style>\n",
       "<table border=\"1\" class=\"dataframe\">\n",
       "  <thead>\n",
       "    <tr style=\"text-align: right;\">\n",
       "      <th></th>\n",
       "      <th>text</th>\n",
       "      <th>target</th>\n",
       "    </tr>\n",
       "  </thead>\n",
       "  <tbody>\n",
       "    <tr>\n",
       "      <th>0</th>\n",
       "      <td>washington (reuters)u.s. presidential candidat...</td>\n",
       "      <td>False</td>\n",
       "    </tr>\n",
       "    <tr>\n",
       "      <th>1</th>\n",
       "      <td>talk about why hes unqualified to be president...</td>\n",
       "      <td>False</td>\n",
       "    </tr>\n",
       "    <tr>\n",
       "      <th>2</th>\n",
       "      <td>from vermont, nearly out of options to challen...</td>\n",
       "      <td>False</td>\n",
       "    </tr>\n",
       "    <tr>\n",
       "      <th>3</th>\n",
       "      <td>there would be a revolt against him when deleg...</td>\n",
       "      <td>False</td>\n",
       "    </tr>\n",
       "    <tr>\n",
       "      <th>4</th>\n",
       "      <td>eventual endorsement would put pressure on san...</td>\n",
       "      <td>False</td>\n",
       "    </tr>\n",
       "    <tr>\n",
       "      <th>5</th>\n",
       "      <td>how many more days remain in our community org...</td>\n",
       "      <td>True</td>\n",
       "    </tr>\n",
       "    <tr>\n",
       "      <th>6</th>\n",
       "      <td>has voiced concern that russia s involvement, ...</td>\n",
       "      <td>True</td>\n",
       "    </tr>\n",
       "    <tr>\n",
       "      <th>7</th>\n",
       "      <td>fly directly from russia to syria, but the sma...</td>\n",
       "      <td>True</td>\n",
       "    </tr>\n",
       "    <tr>\n",
       "      <th>8</th>\n",
       "      <td>carter cautioned that without russian support ...</td>\n",
       "      <td>True</td>\n",
       "    </tr>\n",
       "    <tr>\n",
       "      <th>9</th>\n",
       "      <td>(cnn) a doctor who authorities say gave cance...</td>\n",
       "      <td>False</td>\n",
       "    </tr>\n",
       "  </tbody>\n",
       "</table>\n",
       "</div>"
      ],
      "text/plain": [
       "                                                text target\n",
       "0  washington (reuters)u.s. presidential candidat...  False\n",
       "1  talk about why hes unqualified to be president...  False\n",
       "2  from vermont, nearly out of options to challen...  False\n",
       "3  there would be a revolt against him when deleg...  False\n",
       "4  eventual endorsement would put pressure on san...  False\n",
       "5  how many more days remain in our community org...   True\n",
       "6  has voiced concern that russia s involvement, ...   True\n",
       "7  fly directly from russia to syria, but the sma...   True\n",
       "8  carter cautioned that without russian support ...   True\n",
       "9   (cnn) a doctor who authorities say gave cance...  False"
      ]
     },
     "execution_count": 40,
     "metadata": {},
     "output_type": "execute_result"
    }
   ],
   "source": [
    "tokenizer_df.head(10)"
   ]
  },
  {
   "cell_type": "code",
   "execution_count": 41,
   "metadata": {
    "colab": {
     "base_uri": "https://localhost:8080/",
     "height": 282
    },
    "executionInfo": {
     "elapsed": 526,
     "status": "ok",
     "timestamp": 1650891802708,
     "user": {
      "displayName": "Djordjije Kundacina",
      "userId": "14953981034680478152"
     },
     "user_tz": -120
    },
    "id": "l9gtRN-ygjrz",
    "outputId": "0f1cce6d-ddf8-4848-84f6-a8e535cb9bec"
   },
   "outputs": [
    {
     "name": "stdout",
     "output_type": "stream",
     "text": [
      "[17292, 21309]\n"
     ]
    },
    {
     "data": {
      "image/png": "[encoded data removed]",
      "text/plain": [
       "<Figure size 432x288 with 1 Axes>"
      ]
     },
     "metadata": {
      "needs_background": "light"
     },
     "output_type": "display_data"
    }
   ],
   "source": [
    "targets=['True', 'False']\n",
    "t_num = tokenizer_df[tokenizer_df['target']==1].count().target\n",
    "f_num = tokenizer_df[tokenizer_df['target']==0].count().target\n",
    "h=[t_num, f_num]\n",
    "x = np.arange(len(targets))\n",
    "\n",
    "print(h)\n",
    "plt.bar(x, h)\n",
    "plt.xticks(x, targets)\n",
    "plt.show()"
   ]
  },
  {
   "cell_type": "code",
   "execution_count": 42,
   "metadata": {
    "executionInfo": {
     "elapsed": 6974,
     "status": "ok",
     "timestamp": 1650891813558,
     "user": {
      "displayName": "Djordjije Kundacina",
      "userId": "14953981034680478152"
     },
     "user_tz": -120
    },
    "id": "jcI0myVsi9ns"
   },
   "outputs": [],
   "source": [
    "tokenizer_df.to_csv('../datasets/fake-news/tokenizer_df.csv', index=False)"
   ]
  },
  {
   "cell_type": "code",
   "execution_count": 43,
   "metadata": {
    "colab": {
     "base_uri": "https://localhost:8080/",
     "height": 363
    },
    "executionInfo": {
     "elapsed": 6058,
     "status": "ok",
     "timestamp": 1650910126891,
     "user": {
      "displayName": "Djordjije Kundacina",
      "userId": "14953981034680478152"
     },
     "user_tz": -120
    },
    "id": "RwHfh7HBkBaL",
    "outputId": "da4cb9c6-645d-411f-dae9-f117c5c99fc9"
   },
   "outputs": [
    {
     "data": {
      "text/html": [
       "<div>\n",
       "<style scoped>\n",
       "    .dataframe tbody tr th:only-of-type {\n",
       "        vertical-align: middle;\n",
       "    }\n",
       "\n",
       "    .dataframe tbody tr th {\n",
       "        vertical-align: top;\n",
       "    }\n",
       "\n",
       "    .dataframe thead th {\n",
       "        text-align: right;\n",
       "    }\n",
       "</style>\n",
       "<table border=\"1\" class=\"dataframe\">\n",
       "  <thead>\n",
       "    <tr style=\"text-align: right;\">\n",
       "      <th></th>\n",
       "      <th>text</th>\n",
       "      <th>target</th>\n",
       "    </tr>\n",
       "  </thead>\n",
       "  <tbody>\n",
       "    <tr>\n",
       "      <th>0</th>\n",
       "      <td>washington (reuters)u.s. presidential candidat...</td>\n",
       "      <td>False</td>\n",
       "    </tr>\n",
       "    <tr>\n",
       "      <th>1</th>\n",
       "      <td>talk about why hes unqualified to be president...</td>\n",
       "      <td>False</td>\n",
       "    </tr>\n",
       "    <tr>\n",
       "      <th>2</th>\n",
       "      <td>from vermont, nearly out of options to challen...</td>\n",
       "      <td>False</td>\n",
       "    </tr>\n",
       "    <tr>\n",
       "      <th>3</th>\n",
       "      <td>there would be a revolt against him when deleg...</td>\n",
       "      <td>False</td>\n",
       "    </tr>\n",
       "    <tr>\n",
       "      <th>4</th>\n",
       "      <td>eventual endorsement would put pressure on san...</td>\n",
       "      <td>False</td>\n",
       "    </tr>\n",
       "    <tr>\n",
       "      <th>5</th>\n",
       "      <td>how many more days remain in our community org...</td>\n",
       "      <td>True</td>\n",
       "    </tr>\n",
       "    <tr>\n",
       "      <th>6</th>\n",
       "      <td>has voiced concern that russia s involvement, ...</td>\n",
       "      <td>True</td>\n",
       "    </tr>\n",
       "    <tr>\n",
       "      <th>7</th>\n",
       "      <td>fly directly from russia to syria, but the sma...</td>\n",
       "      <td>True</td>\n",
       "    </tr>\n",
       "    <tr>\n",
       "      <th>8</th>\n",
       "      <td>carter cautioned that without russian support ...</td>\n",
       "      <td>True</td>\n",
       "    </tr>\n",
       "    <tr>\n",
       "      <th>9</th>\n",
       "      <td>(cnn) a doctor who authorities say gave cance...</td>\n",
       "      <td>False</td>\n",
       "    </tr>\n",
       "  </tbody>\n",
       "</table>\n",
       "</div>"
      ],
      "text/plain": [
       "                                                text  target\n",
       "0  washington (reuters)u.s. presidential candidat...   False\n",
       "1  talk about why hes unqualified to be president...   False\n",
       "2  from vermont, nearly out of options to challen...   False\n",
       "3  there would be a revolt against him when deleg...   False\n",
       "4  eventual endorsement would put pressure on san...   False\n",
       "5  how many more days remain in our community org...    True\n",
       "6  has voiced concern that russia s involvement, ...    True\n",
       "7  fly directly from russia to syria, but the sma...    True\n",
       "8  carter cautioned that without russian support ...    True\n",
       "9   (cnn) a doctor who authorities say gave cance...   False"
      ]
     },
     "execution_count": 43,
     "metadata": {},
     "output_type": "execute_result"
    }
   ],
   "source": [
    "df = pd.read_csv('../datasets/fake-news/tokenizer_df.csv')\n",
    "df.head(10)"
   ]
  },
  {
   "cell_type": "code",
   "execution_count": 44,
   "metadata": {
    "colab": {
     "base_uri": "https://localhost:8080/"
    },
    "executionInfo": {
     "elapsed": 271,
     "status": "ok",
     "timestamp": 1650910129537,
     "user": {
      "displayName": "Djordjije Kundacina",
      "userId": "14953981034680478152"
     },
     "user_tz": -120
    },
    "id": "0V_VsQWVEsyt",
    "outputId": "54efcb73-91c7-45da-d8cf-9e83e16c5243"
   },
   "outputs": [
    {
     "name": "stdout",
     "output_type": "stream",
     "text": [
      "0        washington (reuters)u.s. presidential candidat...\n",
      "1        talk about why hes unqualified to be president...\n",
      "2        from vermont, nearly out of options to challen...\n",
      "3        there would be a revolt against him when deleg...\n",
      "4        eventual endorsement would put pressure on san...\n",
      "                               ...                        \n",
      "38596    the government to enact the peace agreement sw...\n",
      "38597    the accords stopped short of the demands of so...\n",
      "38598    time that his endorsement may have actually hu...\n",
      "38599    the left is trying to push the narrative that ...\n",
      "38600    as much as many of us wish there were a legiti...\n",
      "Name: text, Length: 38601, dtype: object\n",
      "38601\n"
     ]
    }
   ],
   "source": [
    "print(df['text'])\n",
    "print(len(df))"
   ]
  },
  {
   "cell_type": "code",
   "execution_count": 45,
   "metadata": {
    "colab": {
     "base_uri": "https://localhost:8080/"
    },
    "executionInfo": {
     "elapsed": 2068,
     "status": "ok",
     "timestamp": 1650909871297,
     "user": {
      "displayName": "Djordjije Kundacina",
      "userId": "14953981034680478152"
     },
     "user_tz": -120
    },
    "id": "0We3P1jMiPSS",
    "outputId": "a3301897-7059-4fd2-bcf8-5a6e86266b64"
   },
   "outputs": [
    {
     "name": "stdout",
     "output_type": "stream",
     "text": [
      "399.0\n"
     ]
    }
   ],
   "source": [
    "print(df.text.str.count(' ').max())"
   ]
  },
  {
   "cell_type": "code",
   "execution_count": 46,
   "metadata": {
    "colab": {
     "base_uri": "https://localhost:8080/"
    },
    "executionInfo": {
     "elapsed": 313,
     "status": "ok",
     "timestamp": 1650910164875,
     "user": {
      "displayName": "Djordjije Kundacina",
      "userId": "14953981034680478152"
     },
     "user_tz": -120
    },
    "id": "py6j37GIEgzC",
    "outputId": "9aa9edfc-6c4a-4127-a593-c826ba02ac91"
   },
   "outputs": [
    {
     "name": "stdout",
     "output_type": "stream",
     "text": [
      "(30880,) (30880,)\n",
      "(7721,) (7721,)\n"
     ]
    }
   ],
   "source": [
    "X_train, X_test, Y_train, Y_test = train_test_split(df['text'], df['target'], test_size = 0.20, random_state = 42)\n",
    "print(X_train.shape,Y_train.shape)\n",
    "print(X_test.shape,Y_test.shape)\n",
    "\n"
   ]
  },
  {
   "cell_type": "code",
   "execution_count": 47,
   "metadata": {
    "colab": {
     "base_uri": "https://localhost:8080/"
    },
    "executionInfo": {
     "elapsed": 332,
     "status": "ok",
     "timestamp": 1650909877836,
     "user": {
      "displayName": "Djordjije Kundacina",
      "userId": "14953981034680478152"
     },
     "user_tz": -120
    },
    "id": "Q2VTVn0uc8kU",
    "outputId": "49891e85-cf88-415f-8cba-d6f57256fca9"
   },
   "outputs": [
    {
     "name": "stdout",
     "output_type": "stream",
     "text": [
      "26276    democratic presidential nominee hillary clinto...\n",
      "34949    when former president george w. bush left offi...\n",
      "9606     as obama pushes to close gitmo, two former det...\n",
      "35089    report estimates the annual costs of illegal i...\n",
      "23721    after tuesday s semi-coronation of donald trum...\n",
      "                               ...                        \n",
      "6265      century wire says it appears that putin has h...\n",
      "11284    nightly show host larry wilmore lightheartedly...\n",
      "38158    he released the man who had been thrown into p...\n",
      "860      s] husband while [hiswas still alive, handcuff...\n",
      "15795    tune in to the alternate current radio network...\n",
      "Name: text, Length: 30880, dtype: object\n"
     ]
    }
   ],
   "source": [
    "print(X_train)"
   ]
  },
  {
   "cell_type": "code",
   "execution_count": 48,
   "metadata": {
    "colab": {
     "base_uri": "https://localhost:8080/",
     "height": 217,
     "referenced_widgets": [
      "5e21ff0d5f8e4ee4bb2444647dced7f0",
      "73fd4f7765ac42c08e3ba55f004abb0f",
      "18e4c627a2a54df5934c1058efa8745f",
      "296a54d3b36a453c84bc20cf85ee5fcc",
      "cda38fe57e63464b997f72f1ac4321b8",
      "cb922668fdaa4bcda1e69408546dda8d",
      "60ebcbcc373645988b3e42c2a0e6e4d5",
      "0ff4aa28cbd14eb4ad036357dd3900c8",
      "c8a35421c5e143c281028ff20f045cbd",
      "8109f4851157420da2e41faae9009a5f",
      "f9e1cb2706894c4a82bf903f8687cc6b",
      "fab44a3f96594432aa8a01b72de8df10",
      "d500ee20c7be4b62a932da6bbe098055",
      "7c48776514f64da1be8085b165148cbc",
      "865a3303ec594b9c97b05fd13af0509c",
      "11b60313d65e41de8eab3d5c150edcb8",
      "26ea6a435a944c58a594344b3cfb5aa9",
      "7e71d1a89bce486eb6d5b7f16df4f158",
      "4802ec020119451e9a18cef01ee80f48",
      "84c426b5d1bd4fd98c19e146d205ba47",
      "ba84bd1e6d1443fdac6d81081df631fb",
      "eedd9350b3cb4bcebdfc86dc53d5c17b",
      "ee654e85a31b441bba4470702eed7dc3",
      "453131b4d6fb4555b8acfa45b443f01e",
      "77f28209dc864d469852c6105e9bb4e8",
      "e97d3243b2ee4429a40289ab9e35007d",
      "2d891e971cbd40d79b1a43a88a7d85b8",
      "256f921d02a14039a54ccc21f8df6207",
      "931d2e80a2574189a9f15483dc9508f2",
      "48272225e14d46cebd9e76a19a86d3ed",
      "fc90ce51613f4d749853c30c1a0e4054",
      "3e992e4905ca4701b45af3255504370a",
      "25e1281a7f3d4f7bb45604c2e6de0f83",
      "ebbf39f6ce2f4f9e8c619db9a4d35fa3",
      "60cf086b32484754916a6ee4342b09e4",
      "3a99976dba9d402f90f4152be3ed12e7",
      "a30e0b8bc3df4aff80574cfe92b13401",
      "555b1f57742744eea19f80bbde82b876",
      "7a12ee17a95347e78d9873df92f5a28e",
      "3f7e616ce77e4458b8b4a0e0fcfe6f4e",
      "89f5e36a9d82422db8198bb35e27ad1d",
      "c15f4750099041f79ef424f622b04fd8",
      "c2fa4eae1c274e51b49ba8a2cf21540c",
      "f5c3dec104ff41cb86414497cf0930dd"
     ]
    },
    "executionInfo": {
     "elapsed": 18561,
     "status": "ok",
     "timestamp": 1650910154140,
     "user": {
      "displayName": "Djordjije Kundacina",
      "userId": "14953981034680478152"
     },
     "user_tz": -120
    },
    "id": "n1x3fiXI_b5D",
    "outputId": "c32cd8cd-b0f9-4f5d-e73b-c82c4e28cae7"
   },
   "outputs": [
    {
     "name": "stderr",
     "output_type": "stream",
     "text": [
      "Some weights of the model checkpoint at bert-base-uncased were not used when initializing BertModel: ['cls.predictions.transform.LayerNorm.weight', 'cls.predictions.decoder.weight', 'cls.seq_relationship.weight', 'cls.predictions.transform.LayerNorm.bias', 'cls.seq_relationship.bias', 'cls.predictions.transform.dense.bias', 'cls.predictions.transform.dense.weight', 'cls.predictions.bias']\n",
      "- This IS expected if you are initializing BertModel from the checkpoint of a model trained on another task or with another architecture (e.g. initializing a BertForSequenceClassification model from a BertForPreTraining model).\n",
      "- This IS NOT expected if you are initializing BertModel from the checkpoint of a model that you expect to be exactly identical (initializing a BertForSequenceClassification model from a BertForSequenceClassification model).\n"
     ]
    }
   ],
   "source": [
    "tokenizer = BertTokenizer.from_pretrained('bert-base-uncased')\n",
    "model = BertModel.from_pretrained('bert-base-uncased')"
   ]
  },
  {
   "cell_type": "code",
   "execution_count": 49,
   "metadata": {
    "colab": {
     "base_uri": "https://localhost:8080/"
    },
    "id": "MQAjpBYs3uMU",
    "outputId": "bd565599-7e82-48d0-de2c-0ca4e8d8b843"
   },
   "outputs": [
    {
     "name": "stderr",
     "output_type": "stream",
     "text": [
      "100%|██████████| 30880/30880 [3:49:22<00:00,  2.24it/s]  \n"
     ]
    }
   ],
   "source": [
    "emb_words = []\n",
    "labels = []\n",
    "for i in tqdm(range(len(X_train))):\n",
    "  encoded_input = tokenizer(str(X_train.iloc[i]), return_tensors='pt', truncation=True)\n",
    "  output = model(**encoded_input)\n",
    "  words = output['pooler_output'][0].detach().numpy()\n",
    "  emb_words.append(words)\n",
    "  labels.append(Y_train.iloc[i])"
   ]
  },
  {
   "cell_type": "code",
   "execution_count": 50,
   "metadata": {
    "colab": {
     "base_uri": "https://localhost:8080/"
    },
    "executionInfo": {
     "elapsed": 524,
     "status": "ok",
     "timestamp": 1650892759151,
     "user": {
      "displayName": "Djordjije Kundacina",
      "userId": "14953981034680478152"
     },
     "user_tz": -120
    },
    "id": "X-7tMukB9lD5",
    "outputId": "9a4d4b3d-f4a1-4b40-89cc-cc84587a1ea1"
   },
   "outputs": [
    {
     "name": "stdout",
     "output_type": "stream",
     "text": [
      "(30880, 768)\n",
      "(30880,)\n"
     ]
    }
   ],
   "source": [
    "X = np.array(emb_words)\n",
    "y = np.array(labels)\n",
    "print(X.shape)\n",
    "print(y.shape)"
   ]
  },
  {
   "cell_type": "code",
   "execution_count": 51,
   "metadata": {
    "colab": {
     "base_uri": "https://localhost:8080/"
    },
    "executionInfo": {
     "elapsed": 501,
     "status": "ok",
     "timestamp": 1650889760679,
     "user": {
      "displayName": "Djordjije Kundacina",
      "userId": "14953981034680478152"
     },
     "user_tz": -120
    },
    "id": "6Pa12zIe90WR",
    "outputId": "5a02c52a-668d-4a70-8dfe-c44e0f63b0d2"
   },
   "outputs": [
    {
     "name": "stdout",
     "output_type": "stream",
     "text": [
      "[False  True  True ... False False  True]\n"
     ]
    }
   ],
   "source": [
    "print(y)"
   ]
  },
  {
   "cell_type": "code",
   "execution_count": 53,
   "metadata": {
    "colab": {
     "base_uri": "https://localhost:8080/"
    },
    "executionInfo": {
     "elapsed": 514,
     "status": "ok",
     "timestamp": 1650892764060,
     "user": {
      "displayName": "Djordjije Kundacina",
      "userId": "14953981034680478152"
     },
     "user_tz": -120
    },
    "id": "WISFR_Bf5Fc_",
    "outputId": "431276cb-e5eb-472c-b441-713083a06f06"
   },
   "outputs": [
    {
     "data": {
      "text/plain": [
       "SVC(kernel='linear')"
      ]
     },
     "execution_count": 53,
     "metadata": {},
     "output_type": "execute_result"
    }
   ],
   "source": [
    "clf = SVC(kernel='linear')\n",
    "clf.fit(X, y)\n"
   ]
  },
  {
   "cell_type": "code",
   "execution_count": 54,
   "metadata": {
    "executionInfo": {
     "elapsed": 410,
     "status": "ok",
     "timestamp": 1650892766510,
     "user": {
      "displayName": "Djordjije Kundacina",
      "userId": "14953981034680478152"
     },
     "user_tz": -120
    },
    "id": "vHGlO7RcG1tI"
   },
   "outputs": [],
   "source": [
    "pickle.dump(clf, open('../datasets/fake-news/clf.sav', 'wb'))"
   ]
  },
  {
   "cell_type": "code",
   "execution_count": 55,
   "metadata": {
    "executionInfo": {
     "elapsed": 414,
     "status": "ok",
     "timestamp": 1650892770202,
     "user": {
      "displayName": "Djordjije Kundacina",
      "userId": "14953981034680478152"
     },
     "user_tz": -120
    },
    "id": "qINGtJLxpN6f"
   },
   "outputs": [],
   "source": [
    "clf = pickle.load(open('../datasets/fake-news/clf.sav', 'rb'))"
   ]
  },
  {
   "cell_type": "code",
   "execution_count": 56,
   "metadata": {
    "executionInfo": {
     "elapsed": 14347,
     "status": "ok",
     "timestamp": 1650892788538,
     "user": {
      "displayName": "Djordjije Kundacina",
      "userId": "14953981034680478152"
     },
     "user_tz": -120
    },
    "id": "VQf-VdXdpOR_"
   },
   "outputs": [],
   "source": [
    "emb_words_test = []\n",
    "labels_test = []\n",
    "for i in range(len(X_test)):\n",
    "  encoded_input = tokenizer(str(X_test.iloc[i]), return_tensors='pt', truncation=True)\n",
    "  output = model(**encoded_input)\n",
    "  words = output['pooler_output'][0].detach().numpy()\n",
    "  emb_words_test.append(words)\n",
    "  labels_test.append(Y_test.iloc[i])"
   ]
  },
  {
   "cell_type": "code",
   "execution_count": 57,
   "metadata": {
    "colab": {
     "base_uri": "https://localhost:8080/"
    },
    "executionInfo": {
     "elapsed": 407,
     "status": "ok",
     "timestamp": 1650892792520,
     "user": {
      "displayName": "Djordjije Kundacina",
      "userId": "14953981034680478152"
     },
     "user_tz": -120
    },
    "id": "hjGUt7uYpOUp",
    "outputId": "de140b03-fb58-4026-ef72-69e9ca82017a"
   },
   "outputs": [
    {
     "name": "stdout",
     "output_type": "stream",
     "text": [
      "(7721, 768)\n"
     ]
    }
   ],
   "source": [
    "X_svm_test = np.array(emb_words_test)\n",
    "print(X_svm_test.shape)"
   ]
  },
  {
   "cell_type": "code",
   "execution_count": 58,
   "metadata": {
    "colab": {
     "base_uri": "https://localhost:8080/"
    },
    "executionInfo": {
     "elapsed": 8,
     "status": "ok",
     "timestamp": 1650892794372,
     "user": {
      "displayName": "Djordjije Kundacina",
      "userId": "14953981034680478152"
     },
     "user_tz": -120
    },
    "id": "tsj1OMtupOed",
    "outputId": "48ec4e4d-e030-4e0d-eb33-dd1761bb2bee"
   },
   "outputs": [
    {
     "name": "stdout",
     "output_type": "stream",
     "text": [
      "0.9268229503950266\n"
     ]
    }
   ],
   "source": [
    "predicted = clf.predict(X_svm_test)\n",
    "\n",
    "print(accuracy_score(labels_test, predicted))"
   ]
  }
 ],
 "metadata": {
  "accelerator": "GPU",
  "colab": {
   "authorship_tag": "ABX9TyM72csFpeOulgzDQDCFGRDA",
   "collapsed_sections": [],
   "name": "fn_bert.ipynb",
   "provenance": []
  },
  "kernelspec": {
   "display_name": "Python 3 (ipykernel)",
   "language": "python",
   "name": "python3"
  },
  "language_info": {
   "codemirror_mode": {
    "name": "ipython",
    "version": 3
   },
   "file_extension": ".py",
   "mimetype": "text/x-python",
   "name": "python",
   "nbconvert_exporter": "python",
   "pygments_lexer": "ipython3",
   "version": "3.7.11"
  },
  "widgets": {
   "application/vnd.jupyter.widget-state+json": {
    "0ff4aa28cbd14eb4ad036357dd3900c8": {
     "model_module": "@jupyter-widgets/base",
     "model_module_version": "1.2.0",
     "model_name": "LayoutModel",
     "state": {
      "_model_module": "@jupyter-widgets/base",
      "_model_module_version": "1.2.0",
      "_model_name": "LayoutModel",
      "_view_count": null,
      "_view_module": "@jupyter-widgets/base",
      "_view_module_version": "1.2.0",
      "_view_name": "LayoutView",
      "align_content": null,
      "align_items": null,
      "align_self": null,
      "border": null,
      "bottom": null,
      "display": null,
      "flex": null,
      "flex_flow": null,
      "grid_area": null,
      "grid_auto_columns": null,
      "grid_auto_flow": null,
      "grid_auto_rows": null,
      "grid_column": null,
      "grid_gap": null,
      "grid_row": null,
      "grid_template_areas": null,
      "grid_template_columns": null,
      "grid_template_rows": null,
      "height": null,
      "justify_content": null,
      "justify_items": null,
      "left": null,
      "margin": null,
      "max_height": null,
      "max_width": null,
      "min_height": null,
      "min_width": null,
      "object_fit": null,
      "object_position": null,
      "order": null,
      "overflow": null,
      "overflow_x": null,
      "overflow_y": null,
      "padding": null,
      "right": null,
      "top": null,
      "visibility": null,
      "width": null
     }
    },
    "11b60313d65e41de8eab3d5c150edcb8": {
     "model_module": "@jupyter-widgets/base",
     "model_module_version": "1.2.0",
     "model_name": "LayoutModel",
     "state": {
      "_model_module": "@jupyter-widgets/base",
      "_model_module_version": "1.2.0",
      "_model_name": "LayoutModel",
      "_view_count": null,
      "_view_module": "@jupyter-widgets/base",
      "_view_module_version": "1.2.0",
      "_view_name": "LayoutView",
      "align_content": null,
      "align_items": null,
      "align_self": null,
      "border": null,
      "bottom": null,
      "display": null,
      "flex": null,
      "flex_flow": null,
      "grid_area": null,
      "grid_auto_columns": null,
      "grid_auto_flow": null,
      "grid_auto_rows": null,
      "grid_column": null,
      "grid_gap": null,
      "grid_row": null,
      "grid_template_areas": null,
      "grid_template_columns": null,
      "grid_template_rows": null,
      "height": null,
      "justify_content": null,
      "justify_items": null,
      "left": null,
      "margin": null,
      "max_height": null,
      "max_width": null,
      "min_height": null,
      "min_width": null,
      "object_fit": null,
      "object_position": null,
      "order": null,
      "overflow": null,
      "overflow_x": null,
      "overflow_y": null,
      "padding": null,
      "right": null,
      "top": null,
      "visibility": null,
      "width": null
     }
    },
    "18e4c627a2a54df5934c1058efa8745f": {
     "model_module": "@jupyter-widgets/controls",
     "model_module_version": "1.5.0",
     "model_name": "FloatProgressModel",
     "state": {
      "_dom_classes": [],
      "_model_module": "@jupyter-widgets/controls",
      "_model_module_version": "1.5.0",
      "_model_name": "FloatProgressModel",
      "_view_count": null,
      "_view_module": "@jupyter-widgets/controls",
      "_view_module_version": "1.5.0",
      "_view_name": "ProgressView",
      "bar_style": "success",
      "description": "",
      "description_tooltip": null,
      "layout": "IPY_MODEL_0ff4aa28cbd14eb4ad036357dd3900c8",
      "max": 231508,
      "min": 0,
      "orientation": "horizontal",
      "style": "IPY_MODEL_c8a35421c5e143c281028ff20f045cbd",
      "value": 231508
     }
    },
    "256f921d02a14039a54ccc21f8df6207": {
     "model_module": "@jupyter-widgets/base",
     "model_module_version": "1.2.0",
     "model_name": "LayoutModel",
     "state": {
      "_model_module": "@jupyter-widgets/base",
      "_model_module_version": "1.2.0",
      "_model_name": "LayoutModel",
      "_view_count": null,
      "_view_module": "@jupyter-widgets/base",
      "_view_module_version": "1.2.0",
      "_view_name": "LayoutView",
      "align_content": null,
      "align_items": null,
      "align_self": null,
      "border": null,
      "bottom": null,
      "display": null,
      "flex": null,
      "flex_flow": null,
      "grid_area": null,
      "grid_auto_columns": null,
      "grid_auto_flow": null,
      "grid_auto_rows": null,
      "grid_column": null,
      "grid_gap": null,
      "grid_row": null,
      "grid_template_areas": null,
      "grid_template_columns": null,
      "grid_template_rows": null,
      "height": null,
      "justify_content": null,
      "justify_items": null,
      "left": null,
      "margin": null,
      "max_height": null,
      "max_width": null,
      "min_height": null,
      "min_width": null,
      "object_fit": null,
      "object_position": null,
      "order": null,
      "overflow": null,
      "overflow_x": null,
      "overflow_y": null,
      "padding": null,
      "right": null,
      "top": null,
      "visibility": null,
      "width": null
     }
    },
    "25e1281a7f3d4f7bb45604c2e6de0f83": {
     "model_module": "@jupyter-widgets/controls",
     "model_module_version": "1.5.0",
     "model_name": "DescriptionStyleModel",
     "state": {
      "_model_module": "@jupyter-widgets/controls",
      "_model_module_version": "1.5.0",
      "_model_name": "DescriptionStyleModel",
      "_view_count": null,
      "_view_module": "@jupyter-widgets/base",
      "_view_module_version": "1.2.0",
      "_view_name": "StyleView",
      "description_width": ""
     }
    },
    "26ea6a435a944c58a594344b3cfb5aa9": {
     "model_module": "@jupyter-widgets/base",
     "model_module_version": "1.2.0",
     "model_name": "LayoutModel",
     "state": {
      "_model_module": "@jupyter-widgets/base",
      "_model_module_version": "1.2.0",
      "_model_name": "LayoutModel",
      "_view_count": null,
      "_view_module": "@jupyter-widgets/base",
      "_view_module_version": "1.2.0",
      "_view_name": "LayoutView",
      "align_content": null,
      "align_items": null,
      "align_self": null,
      "border": null,
      "bottom": null,
      "display": null,
      "flex": null,
      "flex_flow": null,
      "grid_area": null,
      "grid_auto_columns": null,
      "grid_auto_flow": null,
      "grid_auto_rows": null,
      "grid_column": null,
      "grid_gap": null,
      "grid_row": null,
      "grid_template_areas": null,
      "grid_template_columns": null,
      "grid_template_rows": null,
      "height": null,
      "justify_content": null,
      "justify_items": null,
      "left": null,
      "margin": null,
      "max_height": null,
      "max_width": null,
      "min_height": null,
      "min_width": null,
      "object_fit": null,
      "object_position": null,
      "order": null,
      "overflow": null,
      "overflow_x": null,
      "overflow_y": null,
      "padding": null,
      "right": null,
      "top": null,
      "visibility": null,
      "width": null
     }
    },
    "296a54d3b36a453c84bc20cf85ee5fcc": {
     "model_module": "@jupyter-widgets/controls",
     "model_module_version": "1.5.0",
     "model_name": "HTMLModel",
     "state": {
      "_dom_classes": [],
      "_model_module": "@jupyter-widgets/controls",
      "_model_module_version": "1.5.0",
      "_model_name": "HTMLModel",
      "_view_count": null,
      "_view_module": "@jupyter-widgets/controls",
      "_view_module_version": "1.5.0",
      "_view_name": "HTMLView",
      "description": "",
      "description_tooltip": null,
      "layout": "IPY_MODEL_8109f4851157420da2e41faae9009a5f",
      "placeholder": "​",
      "style": "IPY_MODEL_f9e1cb2706894c4a82bf903f8687cc6b",
      "value": " 226k/226k [00:00&lt;00:00, 5.59kB/s]"
     }
    },
    "2d891e971cbd40d79b1a43a88a7d85b8": {
     "model_module": "@jupyter-widgets/base",
     "model_module_version": "1.2.0",
     "model_name": "LayoutModel",
     "state": {
      "_model_module": "@jupyter-widgets/base",
      "_model_module_version": "1.2.0",
      "_model_name": "LayoutModel",
      "_view_count": null,
      "_view_module": "@jupyter-widgets/base",
      "_view_module_version": "1.2.0",
      "_view_name": "LayoutView",
      "align_content": null,
      "align_items": null,
      "align_self": null,
      "border": null,
      "bottom": null,
      "display": null,
      "flex": null,
      "flex_flow": null,
      "grid_area": null,
      "grid_auto_columns": null,
      "grid_auto_flow": null,
      "grid_auto_rows": null,
      "grid_column": null,
      "grid_gap": null,
      "grid_row": null,
      "grid_template_areas": null,
      "grid_template_columns": null,
      "grid_template_rows": null,
      "height": null,
      "justify_content": null,
      "justify_items": null,
      "left": null,
      "margin": null,
      "max_height": null,
      "max_width": null,
      "min_height": null,
      "min_width": null,
      "object_fit": null,
      "object_position": null,
      "order": null,
      "overflow": null,
      "overflow_x": null,
      "overflow_y": null,
      "padding": null,
      "right": null,
      "top": null,
      "visibility": null,
      "width": null
     }
    },
    "3a99976dba9d402f90f4152be3ed12e7": {
     "model_module": "@jupyter-widgets/controls",
     "model_module_version": "1.5.0",
     "model_name": "FloatProgressModel",
     "state": {
      "_dom_classes": [],
      "_model_module": "@jupyter-widgets/controls",
      "_model_module_version": "1.5.0",
      "_model_name": "FloatProgressModel",
      "_view_count": null,
      "_view_module": "@jupyter-widgets/controls",
      "_view_module_version": "1.5.0",
      "_view_name": "ProgressView",
      "bar_style": "success",
      "description": "",
      "description_tooltip": null,
      "layout": "IPY_MODEL_89f5e36a9d82422db8198bb35e27ad1d",
      "max": 440473133,
      "min": 0,
      "orientation": "horizontal",
      "style": "IPY_MODEL_c15f4750099041f79ef424f622b04fd8",
      "value": 440473133
     }
    },
    "3e992e4905ca4701b45af3255504370a": {
     "model_module": "@jupyter-widgets/base",
     "model_module_version": "1.2.0",
     "model_name": "LayoutModel",
     "state": {
      "_model_module": "@jupyter-widgets/base",
      "_model_module_version": "1.2.0",
      "_model_name": "LayoutModel",
      "_view_count": null,
      "_view_module": "@jupyter-widgets/base",
      "_view_module_version": "1.2.0",
      "_view_name": "LayoutView",
      "align_content": null,
      "align_items": null,
      "align_self": null,
      "border": null,
      "bottom": null,
      "display": null,
      "flex": null,
      "flex_flow": null,
      "grid_area": null,
      "grid_auto_columns": null,
      "grid_auto_flow": null,
      "grid_auto_rows": null,
      "grid_column": null,
      "grid_gap": null,
      "grid_row": null,
      "grid_template_areas": null,
      "grid_template_columns": null,
      "grid_template_rows": null,
      "height": null,
      "justify_content": null,
      "justify_items": null,
      "left": null,
      "margin": null,
      "max_height": null,
      "max_width": null,
      "min_height": null,
      "min_width": null,
      "object_fit": null,
      "object_position": null,
      "order": null,
      "overflow": null,
      "overflow_x": null,
      "overflow_y": null,
      "padding": null,
      "right": null,
      "top": null,
      "visibility": null,
      "width": null
     }
    },
    "3f7e616ce77e4458b8b4a0e0fcfe6f4e": {
     "model_module": "@jupyter-widgets/controls",
     "model_module_version": "1.5.0",
     "model_name": "DescriptionStyleModel",
     "state": {
      "_model_module": "@jupyter-widgets/controls",
      "_model_module_version": "1.5.0",
      "_model_name": "DescriptionStyleModel",
      "_view_count": null,
      "_view_module": "@jupyter-widgets/base",
      "_view_module_version": "1.2.0",
      "_view_name": "StyleView",
      "description_width": ""
     }
    },
    "453131b4d6fb4555b8acfa45b443f01e": {
     "model_module": "@jupyter-widgets/controls",
     "model_module_version": "1.5.0",
     "model_name": "HTMLModel",
     "state": {
      "_dom_classes": [],
      "_model_module": "@jupyter-widgets/controls",
      "_model_module_version": "1.5.0",
      "_model_name": "HTMLModel",
      "_view_count": null,
      "_view_module": "@jupyter-widgets/controls",
      "_view_module_version": "1.5.0",
      "_view_name": "HTMLView",
      "description": "",
      "description_tooltip": null,
      "layout": "IPY_MODEL_256f921d02a14039a54ccc21f8df6207",
      "placeholder": "​",
      "style": "IPY_MODEL_931d2e80a2574189a9f15483dc9508f2",
      "value": "Downloading: 100%"
     }
    },
    "4802ec020119451e9a18cef01ee80f48": {
     "model_module": "@jupyter-widgets/base",
     "model_module_version": "1.2.0",
     "model_name": "LayoutModel",
     "state": {
      "_model_module": "@jupyter-widgets/base",
      "_model_module_version": "1.2.0",
      "_model_name": "LayoutModel",
      "_view_count": null,
      "_view_module": "@jupyter-widgets/base",
      "_view_module_version": "1.2.0",
      "_view_name": "LayoutView",
      "align_content": null,
      "align_items": null,
      "align_self": null,
      "border": null,
      "bottom": null,
      "display": null,
      "flex": null,
      "flex_flow": null,
      "grid_area": null,
      "grid_auto_columns": null,
      "grid_auto_flow": null,
      "grid_auto_rows": null,
      "grid_column": null,
      "grid_gap": null,
      "grid_row": null,
      "grid_template_areas": null,
      "grid_template_columns": null,
      "grid_template_rows": null,
      "height": null,
      "justify_content": null,
      "justify_items": null,
      "left": null,
      "margin": null,
      "max_height": null,
      "max_width": null,
      "min_height": null,
      "min_width": null,
      "object_fit": null,
      "object_position": null,
      "order": null,
      "overflow": null,
      "overflow_x": null,
      "overflow_y": null,
      "padding": null,
      "right": null,
      "top": null,
      "visibility": null,
      "width": null
     }
    },
    "48272225e14d46cebd9e76a19a86d3ed": {
     "model_module": "@jupyter-widgets/base",
     "model_module_version": "1.2.0",
     "model_name": "LayoutModel",
     "state": {
      "_model_module": "@jupyter-widgets/base",
      "_model_module_version": "1.2.0",
      "_model_name": "LayoutModel",
      "_view_count": null,
      "_view_module": "@jupyter-widgets/base",
      "_view_module_version": "1.2.0",
      "_view_name": "LayoutView",
      "align_content": null,
      "align_items": null,
      "align_self": null,
      "border": null,
      "bottom": null,
      "display": null,
      "flex": null,
      "flex_flow": null,
      "grid_area": null,
      "grid_auto_columns": null,
      "grid_auto_flow": null,
      "grid_auto_rows": null,
      "grid_column": null,
      "grid_gap": null,
      "grid_row": null,
      "grid_template_areas": null,
      "grid_template_columns": null,
      "grid_template_rows": null,
      "height": null,
      "justify_content": null,
      "justify_items": null,
      "left": null,
      "margin": null,
      "max_height": null,
      "max_width": null,
      "min_height": null,
      "min_width": null,
      "object_fit": null,
      "object_position": null,
      "order": null,
      "overflow": null,
      "overflow_x": null,
      "overflow_y": null,
      "padding": null,
      "right": null,
      "top": null,
      "visibility": null,
      "width": null
     }
    },
    "555b1f57742744eea19f80bbde82b876": {
     "model_module": "@jupyter-widgets/base",
     "model_module_version": "1.2.0",
     "model_name": "LayoutModel",
     "state": {
      "_model_module": "@jupyter-widgets/base",
      "_model_module_version": "1.2.0",
      "_model_name": "LayoutModel",
      "_view_count": null,
      "_view_module": "@jupyter-widgets/base",
      "_view_module_version": "1.2.0",
      "_view_name": "LayoutView",
      "align_content": null,
      "align_items": null,
      "align_self": null,
      "border": null,
      "bottom": null,
      "display": null,
      "flex": null,
      "flex_flow": null,
      "grid_area": null,
      "grid_auto_columns": null,
      "grid_auto_flow": null,
      "grid_auto_rows": null,
      "grid_column": null,
      "grid_gap": null,
      "grid_row": null,
      "grid_template_areas": null,
      "grid_template_columns": null,
      "grid_template_rows": null,
      "height": null,
      "justify_content": null,
      "justify_items": null,
      "left": null,
      "margin": null,
      "max_height": null,
      "max_width": null,
      "min_height": null,
      "min_width": null,
      "object_fit": null,
      "object_position": null,
      "order": null,
      "overflow": null,
      "overflow_x": null,
      "overflow_y": null,
      "padding": null,
      "right": null,
      "top": null,
      "visibility": null,
      "width": null
     }
    },
    "5e21ff0d5f8e4ee4bb2444647dced7f0": {
     "model_module": "@jupyter-widgets/controls",
     "model_module_version": "1.5.0",
     "model_name": "HBoxModel",
     "state": {
      "_dom_classes": [],
      "_model_module": "@jupyter-widgets/controls",
      "_model_module_version": "1.5.0",
      "_model_name": "HBoxModel",
      "_view_count": null,
      "_view_module": "@jupyter-widgets/controls",
      "_view_module_version": "1.5.0",
      "_view_name": "HBoxView",
      "box_style": "",
      "children": [
       "IPY_MODEL_73fd4f7765ac42c08e3ba55f004abb0f",
       "IPY_MODEL_18e4c627a2a54df5934c1058efa8745f",
       "IPY_MODEL_296a54d3b36a453c84bc20cf85ee5fcc"
      ],
      "layout": "IPY_MODEL_cda38fe57e63464b997f72f1ac4321b8"
     }
    },
    "60cf086b32484754916a6ee4342b09e4": {
     "model_module": "@jupyter-widgets/controls",
     "model_module_version": "1.5.0",
     "model_name": "HTMLModel",
     "state": {
      "_dom_classes": [],
      "_model_module": "@jupyter-widgets/controls",
      "_model_module_version": "1.5.0",
      "_model_name": "HTMLModel",
      "_view_count": null,
      "_view_module": "@jupyter-widgets/controls",
      "_view_module_version": "1.5.0",
      "_view_name": "HTMLView",
      "description": "",
      "description_tooltip": null,
      "layout": "IPY_MODEL_7a12ee17a95347e78d9873df92f5a28e",
      "placeholder": "​",
      "style": "IPY_MODEL_3f7e616ce77e4458b8b4a0e0fcfe6f4e",
      "value": "Downloading: 100%"
     }
    },
    "60ebcbcc373645988b3e42c2a0e6e4d5": {
     "model_module": "@jupyter-widgets/controls",
     "model_module_version": "1.5.0",
     "model_name": "DescriptionStyleModel",
     "state": {
      "_model_module": "@jupyter-widgets/controls",
      "_model_module_version": "1.5.0",
      "_model_name": "DescriptionStyleModel",
      "_view_count": null,
      "_view_module": "@jupyter-widgets/base",
      "_view_module_version": "1.2.0",
      "_view_name": "StyleView",
      "description_width": ""
     }
    },
    "73fd4f7765ac42c08e3ba55f004abb0f": {
     "model_module": "@jupyter-widgets/controls",
     "model_module_version": "1.5.0",
     "model_name": "HTMLModel",
     "state": {
      "_dom_classes": [],
      "_model_module": "@jupyter-widgets/controls",
      "_model_module_version": "1.5.0",
      "_model_name": "HTMLModel",
      "_view_count": null,
      "_view_module": "@jupyter-widgets/controls",
      "_view_module_version": "1.5.0",
      "_view_name": "HTMLView",
      "description": "",
      "description_tooltip": null,
      "layout": "IPY_MODEL_cb922668fdaa4bcda1e69408546dda8d",
      "placeholder": "​",
      "style": "IPY_MODEL_60ebcbcc373645988b3e42c2a0e6e4d5",
      "value": "Downloading: 100%"
     }
    },
    "77f28209dc864d469852c6105e9bb4e8": {
     "model_module": "@jupyter-widgets/controls",
     "model_module_version": "1.5.0",
     "model_name": "FloatProgressModel",
     "state": {
      "_dom_classes": [],
      "_model_module": "@jupyter-widgets/controls",
      "_model_module_version": "1.5.0",
      "_model_name": "FloatProgressModel",
      "_view_count": null,
      "_view_module": "@jupyter-widgets/controls",
      "_view_module_version": "1.5.0",
      "_view_name": "ProgressView",
      "bar_style": "success",
      "description": "",
      "description_tooltip": null,
      "layout": "IPY_MODEL_48272225e14d46cebd9e76a19a86d3ed",
      "max": 570,
      "min": 0,
      "orientation": "horizontal",
      "style": "IPY_MODEL_fc90ce51613f4d749853c30c1a0e4054",
      "value": 570
     }
    },
    "7a12ee17a95347e78d9873df92f5a28e": {
     "model_module": "@jupyter-widgets/base",
     "model_module_version": "1.2.0",
     "model_name": "LayoutModel",
     "state": {
      "_model_module": "@jupyter-widgets/base",
      "_model_module_version": "1.2.0",
      "_model_name": "LayoutModel",
      "_view_count": null,
      "_view_module": "@jupyter-widgets/base",
      "_view_module_version": "1.2.0",
      "_view_name": "LayoutView",
      "align_content": null,
      "align_items": null,
      "align_self": null,
      "border": null,
      "bottom": null,
      "display": null,
      "flex": null,
      "flex_flow": null,
      "grid_area": null,
      "grid_auto_columns": null,
      "grid_auto_flow": null,
      "grid_auto_rows": null,
      "grid_column": null,
      "grid_gap": null,
      "grid_row": null,
      "grid_template_areas": null,
      "grid_template_columns": null,
      "grid_template_rows": null,
      "height": null,
      "justify_content": null,
      "justify_items": null,
      "left": null,
      "margin": null,
      "max_height": null,
      "max_width": null,
      "min_height": null,
      "min_width": null,
      "object_fit": null,
      "object_position": null,
      "order": null,
      "overflow": null,
      "overflow_x": null,
      "overflow_y": null,
      "padding": null,
      "right": null,
      "top": null,
      "visibility": null,
      "width": null
     }
    },
    "7c48776514f64da1be8085b165148cbc": {
     "model_module": "@jupyter-widgets/controls",
     "model_module_version": "1.5.0",
     "model_name": "FloatProgressModel",
     "state": {
      "_dom_classes": [],
      "_model_module": "@jupyter-widgets/controls",
      "_model_module_version": "1.5.0",
      "_model_name": "FloatProgressModel",
      "_view_count": null,
      "_view_module": "@jupyter-widgets/controls",
      "_view_module_version": "1.5.0",
      "_view_name": "ProgressView",
      "bar_style": "success",
      "description": "",
      "description_tooltip": null,
      "layout": "IPY_MODEL_4802ec020119451e9a18cef01ee80f48",
      "max": 28,
      "min": 0,
      "orientation": "horizontal",
      "style": "IPY_MODEL_84c426b5d1bd4fd98c19e146d205ba47",
      "value": 28
     }
    },
    "7e71d1a89bce486eb6d5b7f16df4f158": {
     "model_module": "@jupyter-widgets/controls",
     "model_module_version": "1.5.0",
     "model_name": "DescriptionStyleModel",
     "state": {
      "_model_module": "@jupyter-widgets/controls",
      "_model_module_version": "1.5.0",
      "_model_name": "DescriptionStyleModel",
      "_view_count": null,
      "_view_module": "@jupyter-widgets/base",
      "_view_module_version": "1.2.0",
      "_view_name": "StyleView",
      "description_width": ""
     }
    },
    "8109f4851157420da2e41faae9009a5f": {
     "model_module": "@jupyter-widgets/base",
     "model_module_version": "1.2.0",
     "model_name": "LayoutModel",
     "state": {
      "_model_module": "@jupyter-widgets/base",
      "_model_module_version": "1.2.0",
      "_model_name": "LayoutModel",
      "_view_count": null,
      "_view_module": "@jupyter-widgets/base",
      "_view_module_version": "1.2.0",
      "_view_name": "LayoutView",
      "align_content": null,
      "align_items": null,
      "align_self": null,
      "border": null,
      "bottom": null,
      "display": null,
      "flex": null,
      "flex_flow": null,
      "grid_area": null,
      "grid_auto_columns": null,
      "grid_auto_flow": null,
      "grid_auto_rows": null,
      "grid_column": null,
      "grid_gap": null,
      "grid_row": null,
      "grid_template_areas": null,
      "grid_template_columns": null,
      "grid_template_rows": null,
      "height": null,
      "justify_content": null,
      "justify_items": null,
      "left": null,
      "margin": null,
      "max_height": null,
      "max_width": null,
      "min_height": null,
      "min_width": null,
      "object_fit": null,
      "object_position": null,
      "order": null,
      "overflow": null,
      "overflow_x": null,
      "overflow_y": null,
      "padding": null,
      "right": null,
      "top": null,
      "visibility": null,
      "width": null
     }
    },
    "84c426b5d1bd4fd98c19e146d205ba47": {
     "model_module": "@jupyter-widgets/controls",
     "model_module_version": "1.5.0",
     "model_name": "ProgressStyleModel",
     "state": {
      "_model_module": "@jupyter-widgets/controls",
      "_model_module_version": "1.5.0",
      "_model_name": "ProgressStyleModel",
      "_view_count": null,
      "_view_module": "@jupyter-widgets/base",
      "_view_module_version": "1.2.0",
      "_view_name": "StyleView",
      "bar_color": null,
      "description_width": ""
     }
    },
    "865a3303ec594b9c97b05fd13af0509c": {
     "model_module": "@jupyter-widgets/controls",
     "model_module_version": "1.5.0",
     "model_name": "HTMLModel",
     "state": {
      "_dom_classes": [],
      "_model_module": "@jupyter-widgets/controls",
      "_model_module_version": "1.5.0",
      "_model_name": "HTMLModel",
      "_view_count": null,
      "_view_module": "@jupyter-widgets/controls",
      "_view_module_version": "1.5.0",
      "_view_name": "HTMLView",
      "description": "",
      "description_tooltip": null,
      "layout": "IPY_MODEL_ba84bd1e6d1443fdac6d81081df631fb",
      "placeholder": "​",
      "style": "IPY_MODEL_eedd9350b3cb4bcebdfc86dc53d5c17b",
      "value": " 28.0/28.0 [00:00&lt;00:00, 556B/s]"
     }
    },
    "89f5e36a9d82422db8198bb35e27ad1d": {
     "model_module": "@jupyter-widgets/base",
     "model_module_version": "1.2.0",
     "model_name": "LayoutModel",
     "state": {
      "_model_module": "@jupyter-widgets/base",
      "_model_module_version": "1.2.0",
      "_model_name": "LayoutModel",
      "_view_count": null,
      "_view_module": "@jupyter-widgets/base",
      "_view_module_version": "1.2.0",
      "_view_name": "LayoutView",
      "align_content": null,
      "align_items": null,
      "align_self": null,
      "border": null,
      "bottom": null,
      "display": null,
      "flex": null,
      "flex_flow": null,
      "grid_area": null,
      "grid_auto_columns": null,
      "grid_auto_flow": null,
      "grid_auto_rows": null,
      "grid_column": null,
      "grid_gap": null,
      "grid_row": null,
      "grid_template_areas": null,
      "grid_template_columns": null,
      "grid_template_rows": null,
      "height": null,
      "justify_content": null,
      "justify_items": null,
      "left": null,
      "margin": null,
      "max_height": null,
      "max_width": null,
      "min_height": null,
      "min_width": null,
      "object_fit": null,
      "object_position": null,
      "order": null,
      "overflow": null,
      "overflow_x": null,
      "overflow_y": null,
      "padding": null,
      "right": null,
      "top": null,
      "visibility": null,
      "width": null
     }
    },
    "931d2e80a2574189a9f15483dc9508f2": {
     "model_module": "@jupyter-widgets/controls",
     "model_module_version": "1.5.0",
     "model_name": "DescriptionStyleModel",
     "state": {
      "_model_module": "@jupyter-widgets/controls",
      "_model_module_version": "1.5.0",
      "_model_name": "DescriptionStyleModel",
      "_view_count": null,
      "_view_module": "@jupyter-widgets/base",
      "_view_module_version": "1.2.0",
      "_view_name": "StyleView",
      "description_width": ""
     }
    },
    "a30e0b8bc3df4aff80574cfe92b13401": {
     "model_module": "@jupyter-widgets/controls",
     "model_module_version": "1.5.0",
     "model_name": "HTMLModel",
     "state": {
      "_dom_classes": [],
      "_model_module": "@jupyter-widgets/controls",
      "_model_module_version": "1.5.0",
      "_model_name": "HTMLModel",
      "_view_count": null,
      "_view_module": "@jupyter-widgets/controls",
      "_view_module_version": "1.5.0",
      "_view_name": "HTMLView",
      "description": "",
      "description_tooltip": null,
      "layout": "IPY_MODEL_c2fa4eae1c274e51b49ba8a2cf21540c",
      "placeholder": "​",
      "style": "IPY_MODEL_f5c3dec104ff41cb86414497cf0930dd",
      "value": " 420M/420M [00:14&lt;00:00, 31.8MB/s]"
     }
    },
    "ba84bd1e6d1443fdac6d81081df631fb": {
     "model_module": "@jupyter-widgets/base",
     "model_module_version": "1.2.0",
     "model_name": "LayoutModel",
     "state": {
      "_model_module": "@jupyter-widgets/base",
      "_model_module_version": "1.2.0",
      "_model_name": "LayoutModel",
      "_view_count": null,
      "_view_module": "@jupyter-widgets/base",
      "_view_module_version": "1.2.0",
      "_view_name": "LayoutView",
      "align_content": null,
      "align_items": null,
      "align_self": null,
      "border": null,
      "bottom": null,
      "display": null,
      "flex": null,
      "flex_flow": null,
      "grid_area": null,
      "grid_auto_columns": null,
      "grid_auto_flow": null,
      "grid_auto_rows": null,
      "grid_column": null,
      "grid_gap": null,
      "grid_row": null,
      "grid_template_areas": null,
      "grid_template_columns": null,
      "grid_template_rows": null,
      "height": null,
      "justify_content": null,
      "justify_items": null,
      "left": null,
      "margin": null,
      "max_height": null,
      "max_width": null,
      "min_height": null,
      "min_width": null,
      "object_fit": null,
      "object_position": null,
      "order": null,
      "overflow": null,
      "overflow_x": null,
      "overflow_y": null,
      "padding": null,
      "right": null,
      "top": null,
      "visibility": null,
      "width": null
     }
    },
    "c15f4750099041f79ef424f622b04fd8": {
     "model_module": "@jupyter-widgets/controls",
     "model_module_version": "1.5.0",
     "model_name": "ProgressStyleModel",
     "state": {
      "_model_module": "@jupyter-widgets/controls",
      "_model_module_version": "1.5.0",
      "_model_name": "ProgressStyleModel",
      "_view_count": null,
      "_view_module": "@jupyter-widgets/base",
      "_view_module_version": "1.2.0",
      "_view_name": "StyleView",
      "bar_color": null,
      "description_width": ""
     }
    },
    "c2fa4eae1c274e51b49ba8a2cf21540c": {
     "model_module": "@jupyter-widgets/base",
     "model_module_version": "1.2.0",
     "model_name": "LayoutModel",
     "state": {
      "_model_module": "@jupyter-widgets/base",
      "_model_module_version": "1.2.0",
      "_model_name": "LayoutModel",
      "_view_count": null,
      "_view_module": "@jupyter-widgets/base",
      "_view_module_version": "1.2.0",
      "_view_name": "LayoutView",
      "align_content": null,
      "align_items": null,
      "align_self": null,
      "border": null,
      "bottom": null,
      "display": null,
      "flex": null,
      "flex_flow": null,
      "grid_area": null,
      "grid_auto_columns": null,
      "grid_auto_flow": null,
      "grid_auto_rows": null,
      "grid_column": null,
      "grid_gap": null,
      "grid_row": null,
      "grid_template_areas": null,
      "grid_template_columns": null,
      "grid_template_rows": null,
      "height": null,
      "justify_content": null,
      "justify_items": null,
      "left": null,
      "margin": null,
      "max_height": null,
      "max_width": null,
      "min_height": null,
      "min_width": null,
      "object_fit": null,
      "object_position": null,
      "order": null,
      "overflow": null,
      "overflow_x": null,
      "overflow_y": null,
      "padding": null,
      "right": null,
      "top": null,
      "visibility": null,
      "width": null
     }
    },
    "c8a35421c5e143c281028ff20f045cbd": {
     "model_module": "@jupyter-widgets/controls",
     "model_module_version": "1.5.0",
     "model_name": "ProgressStyleModel",
     "state": {
      "_model_module": "@jupyter-widgets/controls",
      "_model_module_version": "1.5.0",
      "_model_name": "ProgressStyleModel",
      "_view_count": null,
      "_view_module": "@jupyter-widgets/base",
      "_view_module_version": "1.2.0",
      "_view_name": "StyleView",
      "bar_color": null,
      "description_width": ""
     }
    },
    "cb922668fdaa4bcda1e69408546dda8d": {
     "model_module": "@jupyter-widgets/base",
     "model_module_version": "1.2.0",
     "model_name": "LayoutModel",
     "state": {
      "_model_module": "@jupyter-widgets/base",
      "_model_module_version": "1.2.0",
      "_model_name": "LayoutModel",
      "_view_count": null,
      "_view_module": "@jupyter-widgets/base",
      "_view_module_version": "1.2.0",
      "_view_name": "LayoutView",
      "align_content": null,
      "align_items": null,
      "align_self": null,
      "border": null,
      "bottom": null,
      "display": null,
      "flex": null,
      "flex_flow": null,
      "grid_area": null,
      "grid_auto_columns": null,
      "grid_auto_flow": null,
      "grid_auto_rows": null,
      "grid_column": null,
      "grid_gap": null,
      "grid_row": null,
      "grid_template_areas": null,
      "grid_template_columns": null,
      "grid_template_rows": null,
      "height": null,
      "justify_content": null,
      "justify_items": null,
      "left": null,
      "margin": null,
      "max_height": null,
      "max_width": null,
      "min_height": null,
      "min_width": null,
      "object_fit": null,
      "object_position": null,
      "order": null,
      "overflow": null,
      "overflow_x": null,
      "overflow_y": null,
      "padding": null,
      "right": null,
      "top": null,
      "visibility": null,
      "width": null
     }
    },
    "cda38fe57e63464b997f72f1ac4321b8": {
     "model_module": "@jupyter-widgets/base",
     "model_module_version": "1.2.0",
     "model_name": "LayoutModel",
     "state": {
      "_model_module": "@jupyter-widgets/base",
      "_model_module_version": "1.2.0",
      "_model_name": "LayoutModel",
      "_view_count": null,
      "_view_module": "@jupyter-widgets/base",
      "_view_module_version": "1.2.0",
      "_view_name": "LayoutView",
      "align_content": null,
      "align_items": null,
      "align_self": null,
      "border": null,
      "bottom": null,
      "display": null,
      "flex": null,
      "flex_flow": null,
      "grid_area": null,
      "grid_auto_columns": null,
      "grid_auto_flow": null,
      "grid_auto_rows": null,
      "grid_column": null,
      "grid_gap": null,
      "grid_row": null,
      "grid_template_areas": null,
      "grid_template_columns": null,
      "grid_template_rows": null,
      "height": null,
      "justify_content": null,
      "justify_items": null,
      "left": null,
      "margin": null,
      "max_height": null,
      "max_width": null,
      "min_height": null,
      "min_width": null,
      "object_fit": null,
      "object_position": null,
      "order": null,
      "overflow": null,
      "overflow_x": null,
      "overflow_y": null,
      "padding": null,
      "right": null,
      "top": null,
      "visibility": null,
      "width": null
     }
    },
    "d500ee20c7be4b62a932da6bbe098055": {
     "model_module": "@jupyter-widgets/controls",
     "model_module_version": "1.5.0",
     "model_name": "HTMLModel",
     "state": {
      "_dom_classes": [],
      "_model_module": "@jupyter-widgets/controls",
      "_model_module_version": "1.5.0",
      "_model_name": "HTMLModel",
      "_view_count": null,
      "_view_module": "@jupyter-widgets/controls",
      "_view_module_version": "1.5.0",
      "_view_name": "HTMLView",
      "description": "",
      "description_tooltip": null,
      "layout": "IPY_MODEL_26ea6a435a944c58a594344b3cfb5aa9",
      "placeholder": "​",
      "style": "IPY_MODEL_7e71d1a89bce486eb6d5b7f16df4f158",
      "value": "Downloading: 100%"
     }
    },
    "e97d3243b2ee4429a40289ab9e35007d": {
     "model_module": "@jupyter-widgets/controls",
     "model_module_version": "1.5.0",
     "model_name": "HTMLModel",
     "state": {
      "_dom_classes": [],
      "_model_module": "@jupyter-widgets/controls",
      "_model_module_version": "1.5.0",
      "_model_name": "HTMLModel",
      "_view_count": null,
      "_view_module": "@jupyter-widgets/controls",
      "_view_module_version": "1.5.0",
      "_view_name": "HTMLView",
      "description": "",
      "description_tooltip": null,
      "layout": "IPY_MODEL_3e992e4905ca4701b45af3255504370a",
      "placeholder": "​",
      "style": "IPY_MODEL_25e1281a7f3d4f7bb45604c2e6de0f83",
      "value": " 570/570 [00:00&lt;00:00, 13.5kB/s]"
     }
    },
    "ebbf39f6ce2f4f9e8c619db9a4d35fa3": {
     "model_module": "@jupyter-widgets/controls",
     "model_module_version": "1.5.0",
     "model_name": "HBoxModel",
     "state": {
      "_dom_classes": [],
      "_model_module": "@jupyter-widgets/controls",
      "_model_module_version": "1.5.0",
      "_model_name": "HBoxModel",
      "_view_count": null,
      "_view_module": "@jupyter-widgets/controls",
      "_view_module_version": "1.5.0",
      "_view_name": "HBoxView",
      "box_style": "",
      "children": [
       "IPY_MODEL_60cf086b32484754916a6ee4342b09e4",
       "IPY_MODEL_3a99976dba9d402f90f4152be3ed12e7",
       "IPY_MODEL_a30e0b8bc3df4aff80574cfe92b13401"
      ],
      "layout": "IPY_MODEL_555b1f57742744eea19f80bbde82b876"
     }
    },
    "ee654e85a31b441bba4470702eed7dc3": {
     "model_module": "@jupyter-widgets/controls",
     "model_module_version": "1.5.0",
     "model_name": "HBoxModel",
     "state": {
      "_dom_classes": [],
      "_model_module": "@jupyter-widgets/controls",
      "_model_module_version": "1.5.0",
      "_model_name": "HBoxModel",
      "_view_count": null,
      "_view_module": "@jupyter-widgets/controls",
      "_view_module_version": "1.5.0",
      "_view_name": "HBoxView",
      "box_style": "",
      "children": [
       "IPY_MODEL_453131b4d6fb4555b8acfa45b443f01e",
       "IPY_MODEL_77f28209dc864d469852c6105e9bb4e8",
       "IPY_MODEL_e97d3243b2ee4429a40289ab9e35007d"
      ],
      "layout": "IPY_MODEL_2d891e971cbd40d79b1a43a88a7d85b8"
     }
    },
    "eedd9350b3cb4bcebdfc86dc53d5c17b": {
     "model_module": "@jupyter-widgets/controls",
     "model_module_version": "1.5.0",
     "model_name": "DescriptionStyleModel",
     "state": {
      "_model_module": "@jupyter-widgets/controls",
      "_model_module_version": "1.5.0",
      "_model_name": "DescriptionStyleModel",
      "_view_count": null,
      "_view_module": "@jupyter-widgets/base",
      "_view_module_version": "1.2.0",
      "_view_name": "StyleView",
      "description_width": ""
     }
    },
    "f5c3dec104ff41cb86414497cf0930dd": {
     "model_module": "@jupyter-widgets/controls",
     "model_module_version": "1.5.0",
     "model_name": "DescriptionStyleModel",
     "state": {
      "_model_module": "@jupyter-widgets/controls",
      "_model_module_version": "1.5.0",
      "_model_name": "DescriptionStyleModel",
      "_view_count": null,
      "_view_module": "@jupyter-widgets/base",
      "_view_module_version": "1.2.0",
      "_view_name": "StyleView",
      "description_width": ""
     }
    },
    "f9e1cb2706894c4a82bf903f8687cc6b": {
     "model_module": "@jupyter-widgets/controls",
     "model_module_version": "1.5.0",
     "model_name": "DescriptionStyleModel",
     "state": {
      "_model_module": "@jupyter-widgets/controls",
      "_model_module_version": "1.5.0",
      "_model_name": "DescriptionStyleModel",
      "_view_count": null,
      "_view_module": "@jupyter-widgets/base",
      "_view_module_version": "1.2.0",
      "_view_name": "StyleView",
      "description_width": ""
     }
    },
    "fab44a3f96594432aa8a01b72de8df10": {
     "model_module": "@jupyter-widgets/controls",
     "model_module_version": "1.5.0",
     "model_name": "HBoxModel",
     "state": {
      "_dom_classes": [],
      "_model_module": "@jupyter-widgets/controls",
      "_model_module_version": "1.5.0",
      "_model_name": "HBoxModel",
      "_view_count": null,
      "_view_module": "@jupyter-widgets/controls",
      "_view_module_version": "1.5.0",
      "_view_name": "HBoxView",
      "box_style": "",
      "children": [
       "IPY_MODEL_d500ee20c7be4b62a932da6bbe098055",
       "IPY_MODEL_7c48776514f64da1be8085b165148cbc",
       "IPY_MODEL_865a3303ec594b9c97b05fd13af0509c"
      ],
      "layout": "IPY_MODEL_11b60313d65e41de8eab3d5c150edcb8"
     }
    },
    "fc90ce51613f4d749853c30c1a0e4054": {
     "model_module": "@jupyter-widgets/controls",
     "model_module_version": "1.5.0",
     "model_name": "ProgressStyleModel",
     "state": {
      "_model_module": "@jupyter-widgets/controls",
      "_model_module_version": "1.5.0",
      "_model_name": "ProgressStyleModel",
      "_view_count": null,
      "_view_module": "@jupyter-widgets/base",
      "_view_module_version": "1.2.0",
      "_view_name": "StyleView",
      "bar_color": null,
      "description_width": ""
     }
    }
   }
  }
 },
 "nbformat": 4,
 "nbformat_minor": 1
}
