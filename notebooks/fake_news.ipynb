{
 "cells": [
  {
   "cell_type": "markdown",
   "metadata": {},
   "source": [
    "# Fake news detekcija\n",
    "\n",
    "### Importovanje"
   ]
  },
  {
   "cell_type": "code",
   "execution_count": 23,
   "metadata": {},
   "outputs": [
    {
     "name": "stderr",
     "output_type": "stream",
     "text": [
      "[nltk_data] Downloading package stopwords to\n",
      "[nltk_data]     C:\\Users\\krick\\AppData\\Roaming\\nltk_data...\n",
      "[nltk_data]   Package stopwords is already up-to-date!\n"
     ]
    }
   ],
   "source": [
    "import pandas as pd\n",
    "import random\n",
    "import re\n",
    "import nltk\n",
    "from nltk.corpus import stopwords\n",
    "from keras.preprocessing.text import Tokenizer\n",
    "from keras.preprocessing.sequence import pad_sequences\n",
    "from keras import Sequential\n",
    "from keras.layers import SpatialDropout1D, Embedding, LSTM, Dense\n",
    "from keras.callbacks import EarlyStopping\n",
    "from sklearn.model_selection import train_test_split\n",
    "import matplotlib as plt\n",
    "\n",
    "\n",
    "nltk.download('stopwords')\n",
    "stopwords = stopwords.words('english')"
   ]
  },
  {
   "cell_type": "markdown",
   "metadata": {},
   "source": [
    "### Ucitavanje i spajanje csv fajlova sa dodatim FAKE atributom da se razlikuje izvor"
   ]
  },
  {
   "cell_type": "code",
   "execution_count": 2,
   "metadata": {},
   "outputs": [
    {
     "name": "stdout",
     "output_type": "stream",
     "text": [
      "<class 'pandas.core.frame.DataFrame'>\n",
      "Int64Index: 44898 entries, 0 to 23480\n",
      "Data columns (total 5 columns):\n",
      " #   Column   Non-Null Count  Dtype \n",
      "---  ------   --------------  ----- \n",
      " 0   title    44898 non-null  object\n",
      " 1   text     44898 non-null  object\n",
      " 2   subject  44898 non-null  object\n",
      " 3   date     44898 non-null  object\n",
      " 4   fake     44898 non-null  bool  \n",
      "dtypes: bool(1), object(4)\n",
      "memory usage: 1.8+ MB\n"
     ]
    }
   ],
   "source": [
    "true_df = pd.read_csv('../datasets/fake-news/True.csv')\n",
    "fake_df = pd.read_csv('../datasets/fake-news/Fake.csv')\n",
    "\n",
    "true_df = true_df.assign(fake = [False for _ in true_df.iterrows()])\n",
    "fake_df = fake_df.assign(fake = [True for _ in fake_df.iterrows()])\n",
    "\n",
    "df = pd.concat([true_df, fake_df])\n",
    "df.info()"
   ]
  },
  {
   "cell_type": "markdown",
   "metadata": {},
   "source": [
    "### Provera koliko postoji null vrednosti <b>subject</b>\n",
    "#### Bitno nam je da se broj mali, jer ce igrati ulogu u daljoj klasifikaciji!"
   ]
  },
  {
   "cell_type": "code",
   "execution_count": 3,
   "metadata": {},
   "outputs": [
    {
     "name": "stdout",
     "output_type": "stream",
     "text": [
      "title      0\n",
      "text       0\n",
      "subject    0\n",
      "date       0\n",
      "fake       0\n",
      "dtype: int64\n"
     ]
    }
   ],
   "source": [
    "print(df.isnull().sum())"
   ]
  },
  {
   "cell_type": "markdown",
   "metadata": {},
   "source": [
    "# Obrada teksta"
   ]
  },
  {
   "cell_type": "markdown",
   "metadata": {},
   "source": [
    "### Koliko je prljav tekst?"
   ]
  },
  {
   "cell_type": "code",
   "execution_count": 4,
   "metadata": {},
   "outputs": [],
   "source": [
    "def print_plot(index):\n",
    "    example = df[df.index == index][['text', 'fake']].values[0]\n",
    "    if len(example) > 0:\n",
    "        print(example[0])\n",
    "        print('Fake:', example[1])\n",
    "\n",
    "def print_cell():\n",
    "    index = random.randint(0, df.shape[0])\n",
    "    print_plot(index)"
   ]
  },
  {
   "cell_type": "code",
   "execution_count": 7,
   "metadata": {},
   "outputs": [
    {
     "name": "stdout",
     "output_type": "stream",
     "text": [
      "BAGHDAD (Reuters) - Kurdish Peshmerga fighters rejected a warning from an Iraqi  paramilitary force to withdraw from a strategic junction south of the oil-rich city of Kirkuk, a Kurdish security official told Reuters on Sunday. Popular Mobilisation, formed mainly by Iranian-trained Shi ite groups, gave the Peshmerga until midnight local time (2100 GMT Saturday) to leave a position north of the Maktab Khalid junction, the official from the Kurdistan Regional Government s (KRG) Security Council said.  The position controls the access to an airbase and some of the oilfields located in the region of Kirkuk, the official said. The city and its immediate surroundings, including the oilfields, are under Kurdish control. There were no clashes reported about an hour after the deadline, but a resident said dozens of young Kurds deployed around Kirkuk with machine guns as the news of the warning spread. The KRG and the Shi ite-led central government in Baghdad are at loggerheads since a Kurdish independence referendum held last month in northern Iraq. Kurdish authorities said on Friday they had sent thousands more troops to Kirkuk to confront Iraqi  threats.   Iraqi Prime Minister Haider al-Abadi has repeatedly denied any plans to attack the Kurds. Popular Mobilisation is a separate force from the regular army and officially reports to Abadi. It is deployed alongside the army south and west of Kirkuk. Kirkuk, a city of more than one million people, lies just outside KRG territory but Peshmerga forces deployed there in 2014 when Iraqi security forces collapsed in the face of an Islamic State onslaught. The Peshmerga deployment prevented Kirkuk s oilfields from falling into jihadist hands. The Baghdad central government has taken a series of steps to isolate the autonomous Kurdish region since its overwhelming vote for independence in the referendum, including banning international flights from going there. \n",
      "Fake: False\n"
     ]
    }
   ],
   "source": [
    "def safe_print_cell():\n",
    "    try:\n",
    "        print_cell()\n",
    "    except IndexError:\n",
    "        print_cell()\n",
    "\n",
    "safe_print_cell()"
   ]
  },
  {
   "cell_type": "markdown",
   "metadata": {},
   "source": [
    "#### Tekst je relativno prljav. Konkretno, sadrzi karaktere poput [], () i sl.\n",
    "1. Konvertujemo tekstove u lower case\n",
    "2. Ukljanjamo stop reci\n",
    "3. Izbacujemo numericke oznake iz teksta"
   ]
  },
  {
   "cell_type": "code",
   "execution_count": 59,
   "metadata": {},
   "outputs": [],
   "source": [
    "df = df.reset_index(drop=True)\n",
    "\n",
    "def clean_text(text: str) -> str:\n",
    "    REPLACE_BY_SPACE_RE = re.compile('[/(){}\\[\\]\\|@,;]')\n",
    "    BAD_SYMBOLS_RE = re.compile('[^0-9a-z #+_]')\n",
    "    STOPWORDS = set(stopwords)\n",
    "    text = text.lower()\n",
    "    text = REPLACE_BY_SPACE_RE.sub(' ', text)\n",
    "    text = BAD_SYMBOLS_RE.sub('', text)\n",
    "    text = ' '.join(word for word in text.split() if word not in STOPWORDS)\n",
    "    return text\n"
   ]
  },
  {
   "cell_type": "markdown",
   "metadata": {},
   "source": [
    "#### Cistimo tekst svih clanaka"
   ]
  },
  {
   "cell_type": "code",
   "execution_count": 9,
   "metadata": {},
   "outputs": [
    {
     "name": "stderr",
     "output_type": "stream",
     "text": [
      "C:\\Users\\krick\\anaconda3\\envs\\nm\\lib\\site-packages\\ipykernel_launcher.py:2: FutureWarning: The default value of regex will change from True to False in a future version.\n",
      "  \n"
     ]
    }
   ],
   "source": [
    "df['text'] = df['text'].apply(clean_text)\n",
    "df['text'] = df['text'].str.replace('\\d+', '')\n"
   ]
  },
  {
   "cell_type": "markdown",
   "metadata": {},
   "source": [
    "#### Provera nove verzije teksta"
   ]
  },
  {
   "cell_type": "code",
   "execution_count": 10,
   "metadata": {},
   "outputs": [
    {
     "name": "stdout",
     "output_type": "stream",
     "text": [
      "vp mike pence pappas bbq houston pictwittercom occwnodkx edith gonzalez edithge_ february   watch crowd towards end cheering president bush barbara bush hear loud cheer vp pence https wwwyoutubecom watchvkfybtggi\n",
      "Fake: True\n"
     ]
    }
   ],
   "source": [
    "safe_print_cell()"
   ]
  },
  {
   "cell_type": "markdown",
   "metadata": {},
   "source": []
  },
  {
   "cell_type": "markdown",
   "metadata": {},
   "source": [
    "# LSTM"
   ]
  },
  {
   "cell_type": "markdown",
   "metadata": {},
   "source": [
    "#### Inicijalna podesavanja parametara i tokenizacija tekstova clanaka"
   ]
  },
  {
   "cell_type": "code",
   "execution_count": 11,
   "metadata": {},
   "outputs": [
    {
     "name": "stdout",
     "output_type": "stream",
     "text": [
      "Found 209040 unique tokens.\n"
     ]
    }
   ],
   "source": [
    "MAX_NB_WORDS = 50000\n",
    "MAX_SEQUENCE_LENGTH = 250\n",
    "EMBEDDING_DIM = 100\n",
    "\n",
    "tokenizer = Tokenizer(num_words=MAX_NB_WORDS, filters='!\"#$%&()*+,-./:;<=>?@[\\]^_`{|}~', lower=True)\n",
    "tokenizer.fit_on_texts(df['text'].values)\n",
    "word_index = tokenizer.word_index\n",
    "print('Found %s unique tokens.' % len(word_index))"
   ]
  },
  {
   "cell_type": "markdown",
   "metadata": {},
   "source": [
    "#### Bitno je da svi inputi budu istih dimenzija, pa dodajemo padding"
   ]
  },
  {
   "cell_type": "code",
   "execution_count": 12,
   "metadata": {},
   "outputs": [
    {
     "name": "stdout",
     "output_type": "stream",
     "text": [
      "Shape of data tensor: (44898, 250)\n"
     ]
    }
   ],
   "source": [
    "X = tokenizer.texts_to_sequences(df['text'].values)\n",
    "X = pad_sequences(X, maxlen=MAX_SEQUENCE_LENGTH)\n",
    "print('Shape of data tensor:', X.shape)"
   ]
  },
  {
   "cell_type": "markdown",
   "metadata": {},
   "source": [
    "#### Konvertovanje bool oznaka u numericke"
   ]
  },
  {
   "cell_type": "code",
   "execution_count": 13,
   "metadata": {},
   "outputs": [
    {
     "name": "stdout",
     "output_type": "stream",
     "text": [
      "Shape of label tensor: (44898, 2)\n"
     ]
    }
   ],
   "source": [
    "Y = pd.get_dummies(df['fake']).values\n",
    "print('Shape of label tensor:', Y.shape)"
   ]
  },
  {
   "cell_type": "markdown",
   "metadata": {},
   "source": [
    "#### Train test"
   ]
  },
  {
   "cell_type": "code",
   "execution_count": 14,
   "metadata": {},
   "outputs": [
    {
     "name": "stdout",
     "output_type": "stream",
     "text": [
      "(35918, 250) (35918, 2)\n",
      "(8980, 250) (8980, 2)\n"
     ]
    }
   ],
   "source": [
    "X_train, X_test, Y_train, Y_test = train_test_split(X,Y, test_size = 0.20, random_state = 42)\n",
    "print(X_train.shape,Y_train.shape)\n",
    "print(X_test.shape,Y_test.shape)"
   ]
  },
  {
   "cell_type": "markdown",
   "metadata": {},
   "source": [
    "#### Kreiranje modela"
   ]
  },
  {
   "cell_type": "code",
   "execution_count": 17,
   "metadata": {},
   "outputs": [
    {
     "name": "stdout",
     "output_type": "stream",
     "text": [
      "Epoch 1/5\n",
      "506/506 [==============================] - 768s 2s/step - loss: 0.1166 - accuracy: 0.9572 - val_loss: 0.1001 - val_accuracy: 0.9674\n",
      "Epoch 2/5\n",
      "506/506 [==============================] - 757s 1s/step - loss: 0.0446 - accuracy: 0.9851 - val_loss: 0.0481 - val_accuracy: 0.9836\n",
      "Epoch 3/5\n",
      "506/506 [==============================] - 381s 754ms/step - loss: 0.0202 - accuracy: 0.9944 - val_loss: 0.0440 - val_accuracy: 0.9855\n",
      "Epoch 4/5\n",
      "506/506 [==============================] - 381s 753ms/step - loss: 0.0062 - accuracy: 0.9983 - val_loss: 0.0293 - val_accuracy: 0.9922\n",
      "Epoch 5/5\n",
      "506/506 [==============================] - 388s 766ms/step - loss: 0.0044 - accuracy: 0.9986 - val_loss: 0.0737 - val_accuracy: 0.9811\n"
     ]
    }
   ],
   "source": [
    "model = Sequential()\n",
    "model.add(Embedding(MAX_NB_WORDS, EMBEDDING_DIM, input_length=X.shape[1]))\n",
    "model.add(SpatialDropout1D(0.2))\n",
    "model.add(LSTM(100, dropout=0.2, recurrent_dropout=0.2))\n",
    "model.add(Dense(2, activation='softmax'))\n",
    "model.compile(loss='categorical_crossentropy', optimizer='adam', metrics=['accuracy'])\n",
    "\n",
    "epochs = 5\n",
    "batch_size = 64\n",
    "\n",
    "history = model.fit(X_train, Y_train, epochs=epochs, batch_size=batch_size,validation_split=0.1,callbacks=[EarlyStopping(monitor='val_loss', patience=3, min_delta=0.0001)])"
   ]
  },
  {
   "cell_type": "markdown",
   "metadata": {},
   "source": [
    "#### Evaluacija modela"
   ]
  },
  {
   "cell_type": "code",
   "execution_count": 18,
   "metadata": {},
   "outputs": [
    {
     "name": "stdout",
     "output_type": "stream",
     "text": [
      "281/281 [==============================] - 15s 52ms/step - loss: 0.0674 - accuracy: 0.9824\n",
      "Test set\n",
      "  Loss: 0.067\n",
      "  Accuracy: 0.982\n"
     ]
    }
   ],
   "source": [
    "accr = model.evaluate(X_test,Y_test)\n",
    "print('Test set\\n  Loss: {:0.3f}\\n  Accuracy: {:0.3f}'.format(accr[0],accr[1]))"
   ]
  },
  {
   "cell_type": "markdown",
   "metadata": {},
   "source": [
    "#### Serializacija modela"
   ]
  },
  {
   "cell_type": "code",
   "execution_count": 22,
   "metadata": {},
   "outputs": [
    {
     "name": "stdout",
     "output_type": "stream",
     "text": [
      "INFO:tensorflow:Assets written to: ../models/fake_news\\assets\n"
     ]
    },
    {
     "name": "stderr",
     "output_type": "stream",
     "text": [
      "INFO:tensorflow:Assets written to: ../models/fake_news\\assets\n",
      "WARNING:absl:<keras.layers.recurrent.LSTMCell object at 0x0000025C61B75188> has the same name 'LSTMCell' as a built-in Keras object. Consider renaming <class 'keras.layers.recurrent.LSTMCell'> to avoid naming conflicts when loading with `tf.keras.models.load_model`. If renaming is not possible, pass the object in the `custom_objects` parameter of the load function.\n"
     ]
    }
   ],
   "source": [
    "model.save('../models/fake_news')"
   ]
  },
  {
   "cell_type": "markdown",
   "metadata": {},
   "source": [
    "# Testiranje na novom skupu podataka"
   ]
  },
  {
   "cell_type": "code",
   "execution_count": 69,
   "metadata": {},
   "outputs": [
    {
     "name": "stdout",
     "output_type": "stream",
     "text": [
      "<class 'pandas.core.frame.DataFrame'>\n",
      "RangeIndex: 2096 entries, 0 to 2095\n",
      "Data columns (total 2 columns):\n",
      " #   Column  Non-Null Count  Dtype \n",
      "---  ------  --------------  ----- \n",
      " 0   text    2096 non-null   object\n",
      " 1   fake    2096 non-null   bool  \n",
      "dtypes: bool(1), object(1)\n",
      "memory usage: 18.5+ KB\n"
     ]
    },
    {
     "name": "stderr",
     "output_type": "stream",
     "text": [
      "C:\\Users\\krick\\anaconda3\\envs\\nm\\lib\\site-packages\\ipykernel_launcher.py:17: FutureWarning: The default value of regex will change from True to False in a future version.\n"
     ]
    },
    {
     "name": "stdout",
     "output_type": "stream",
     "text": [
      "Found 78353 unique tokens.\n",
      "Shape of data tensor: (4146, 250)\n",
      "Shape of label tensor: (4146, 2)\n"
     ]
    }
   ],
   "source": [
    "new_df = pd.read_csv('../datasets/fake-news/news_articles.csv')\n",
    "new_df = new_df.assign(fake = [True for _ in new_df.iterrows()])\n",
    "new_df = new_df[['text', 'fake']]\n",
    "new_true = pd.read_csv('../datasets/fake-news/articles1.csv')\n",
    "new_true = new_true.head(len(new_df.index))\n",
    "new_true = new_true.assign(fake = [False for _ in new_df.iterrows()])\n",
    "new_true = new_true[['content', 'fake']]\n",
    "new_true.rename(columns = {'content':'text'}, inplace = True)\n",
    "new_true.info()\n",
    "\n",
    "new_df = pd.concat([new_df, new_true])\n",
    "new_df = new_df.dropna()\n",
    "\n",
    "new_df = new_df.reset_index(drop=True)\n",
    "\n",
    "new_df['text'] = new_df['text'].apply(clean_text)\n",
    "new_df['text'] = new_df['text'].str.replace('\\d+', '')\n",
    "\n",
    "tokenizer_new = Tokenizer(num_words=MAX_NB_WORDS, filters='!\"#$%&()*+,-./:;<=>?@[\\]^_`{|}~', lower=True)\n",
    "tokenizer_new.fit_on_texts(new_df['text'].values)\n",
    "new_word_index = tokenizer_new.word_index\n",
    "print('Found %s unique tokens.' % len(new_word_index))\n",
    "\n",
    "X_new = tokenizer_new.texts_to_sequences(new_df['text'].values)\n",
    "X_new = pad_sequences(X_new, maxlen=MAX_SEQUENCE_LENGTH)\n",
    "print('Shape of data tensor:', X_new.shape)\n",
    "\n",
    "Y_new = pd.get_dummies(new_df['fake']).values\n",
    "print('Shape of label tensor:', Y_new.shape)"
   ]
  },
  {
   "cell_type": "code",
   "execution_count": 30,
   "metadata": {},
   "outputs": [
    {
     "name": "stdout",
     "output_type": "stream",
     "text": [
      "Schools All Over America Are Closing On Election Day Due To Fears Of Violence By Michael Snyder, on October 27th, 2016 \n",
      "Will this be the most chaotic election day in modern American history? All across the nation, schools are being closed on election day due to safety fears. Traditionally, schools have been very popular as voting locations because they can accommodate a lot of people, they usually have lots of parking, and everyone in the community knows where they are and can usually get to them fairly easily. But now there is a big movement to remove voting from schools or to shut schools down on election day so that children are not present when voting takes place. According to Fox News , “voting has been removed or classes have been canceled on Election Day at schools in Illinois, Maine, Nebraska, New Hampshire, Ohio, Pennsylvania, Wisconsin and elsewhere.” Just a couple days ago , I shared with you a survey that found that 51 percent of all Americans are concerned about violence happening on election day, and all of these schools closing is just another sign of how on edge much of the population is as we approach November 8th. \n",
      "Many officials are being very honest about the fact that schools are being shut down on election day because they are afraid of election violence. The following comes from Fox News … \n",
      "Several schools across the nation have decided to close on Election Day over fears of possible violence in the hallways stemming from the fallout from the heated rhetoric that consumed the campaign trail. \n",
      "The fear is the ugliness of the election season could escalate into confrontations and even violence in the school hallways, endangering students. \n",
      "“If anybody can sit there and say they don’t think this is a contentious election, then they aren’t paying much attention,” Ed Tolan, the Falmouth, Maine police chief, said Tuesday. His community has already called off classes on Nov. 8 and an increased police presence will be felt around town. \n",
      "And without a doubt, voting locations are “soft targets” that often have little or no security. We have been blessed to have had such peaceful elections in the past, but we also need to realize that times have changed. I believe that there is wisdom in what Georgia Secretary of State Brian Kemp told reporters … \n",
      "“There is a concern, just like at a concert, sporting event or other public gathering that we didn’t have 15 or 20 years ago,” said Georgia Secretary of State Brian Kemp, co-chairman of the National Association of Secretaries of State election committee. “ What if someone walks in a polling location with a backpack bomb or something? If that happens at a school, then that’s certainly concerning.” \n",
      "All it is going to take is a single incident to change everything. \n",
      "Let us hope that it is not this election day when we see something like that. \n",
      "Another reason why polling locations are under increased scrutiny this election season is because of concerns about election fraud. This is something that Donald Trump has alluded to repeatedly on the campaign trail. For instance, just consider what he told a rally in Pennsylvania … \n",
      "“We don’t want to lose an election because you know what I’m talking about,” Trump told an overwhelmingly white crowd in Manheim, Pa., earlier this month. “Because you know what? That’s a big, big problem, and nobody wants to talk about it. Nobody has the guts to talk about it. So go and watch these polling places .” \n",
      "And of course reports are already pouring in from around the country of big problems with the voting machines. In Illinois this week, one candidate personally experienced a machine switching his votes from Republicans to Democrats… \n",
      "Early voting in Illinois got off to a rocky start Monday, as votes being cast for Republican candidates were transformed into votes for Democrats. \n",
      "Republican state representative candidate Jim Moynihan went to vote Monday at the Schaumburg Public Library. \n",
      "“I tried to cast a vote for myself and instead it cast the vote for my opponent,” Moynihan said. “You could imagine my surprise as the same thing happened with a number of races when I tried to vote for a Republican and the machine registered a vote for a Democrat.” \n",
      "In addition, if you keep up with my work on The Economic Collapse Blog , then you already know that a number of voters down in Texas have reported that their votes were switched from Donald Trump to Hillary Clinton . \n",
      "Well, it turns out that those voting machines appear to have a link to the Clinton Foundation … \n",
      "According to OpenSecrets, the company who provided the alleged glitching voting machines is a subsidiary of The McCarthy Group. \n",
      "The McCarthy group is a major donor to the Clinton Foundation – apparently donating 200,000 dollars in 2007 – when it was the largest owner of United States voting machines. Or perhaps the 200,000 dollars went to paying Bill Clinton for speeches? \n",
      "Either way, it doesn’t look good. \n",
      "After everything that we saw in 2012 , I am convinced that there is good reason to be concerned about the integrity of our voting machines. \n",
      "But Democrats don’t like poll observers, because they think that having too many poll observers will intimidate their voters… \n",
      "“It’s un-American, but at the same time we have a long history of doing things like that ,” Ari Berman, author of the 2016 book “ Give Us the Ballot: The Modern Struggle for Voting Rights in America ,” previously told The Christian Science Monitor. “Voting was very, very dangerous. I don’t think anyone’s suggesting that we’re at the same place today. I just think the loss of the [official poll observers] is going to be really problematic.” \n",
      "Without a doubt, this has been the craziest election season that we have seen in decades, and I have a feeling that it is about to get even crazier. \n",
      "But will the end result be the election of the most corrupt politician in the history of our country ? \n",
      "If that is the outcome after all that we have been through, it will be exceedingly depressing indeed. \n",
      "About the author: Michael Snyder is the founder and publisher of The Economic Collapse Blog and End Of The American Dream. Michael’s controversial new book about Bible prophecy entitled “The Rapture Verdict” is available in paperback and for the Kindle on Amazon.com.*\n",
      "Fake: True\n"
     ]
    }
   ],
   "source": [
    "def print_plot(index):\n",
    "    example = new_df[new_df.index == index][['text', 'fake']].values[0]\n",
    "    if len(example) > 0:\n",
    "        print(example[0])\n",
    "        print('Fake:', example[1])\n",
    "\n",
    "def print_cell():\n",
    "    index = random.randint(0, new_df.shape[0])\n",
    "    print_plot(index)\n",
    "\n",
    "print_cell()"
   ]
  },
  {
   "cell_type": "markdown",
   "metadata": {},
   "source": [
    "#### Evaluacija"
   ]
  },
  {
   "cell_type": "markdown",
   "metadata": {},
   "source": []
  },
  {
   "cell_type": "code",
   "execution_count": 70,
   "metadata": {},
   "outputs": [
    {
     "name": "stdout",
     "output_type": "stream",
     "text": [
      "130/130 [==============================] - 14s 110ms/step - loss: 2.0803 - accuracy: 0.5919\n",
      "Test set\n",
      "  Loss: 2.080\n",
      "  Accuracy: 0.592\n"
     ]
    }
   ],
   "source": [
    "accr_new = model.evaluate(X_new,Y_new)\n",
    "print('Validation set\\n  Loss: {:0.3f}\\n  Accuracy: {:0.3f}'.format(accr_new[0],accr_new[1]))"
   ]
  }
 ],
 "metadata": {
  "interpreter": {
   "hash": "48776eafa8df7cd6de53d4da908f51dce28a667ead450d14c1aa6fb1367c4081"
  },
  "kernelspec": {
   "display_name": "Python 3.9.5 64-bit",
   "language": "python",
   "name": "python3"
  },
  "language_info": {
   "codemirror_mode": {
    "name": "ipython",
    "version": 3
   },
   "file_extension": ".py",
   "mimetype": "text/x-python",
   "name": "python",
   "nbconvert_exporter": "python",
   "pygments_lexer": "ipython3",
   "version": "3.7.11"
  },
  "orig_nbformat": 4
 },
 "nbformat": 4,
 "nbformat_minor": 2
}
