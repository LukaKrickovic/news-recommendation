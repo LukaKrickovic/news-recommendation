{
 "cells": [
  {
   "cell_type": "markdown",
   "metadata": {},
   "source": [
    "# Preporuka vesti"
   ]
  },
  {
   "cell_type": "markdown",
   "metadata": {},
   "source": [
    "#### Importovanje"
   ]
  },
  {
   "cell_type": "code",
   "execution_count": 6,
   "metadata": {},
   "outputs": [],
   "source": [
    "import tensorflow.compat.v1.keras as keras\n",
    "from tensorflow.compat.v1.keras import layers\n",
    "from att_layer import AttLayer2\n",
    "from overwrite_masking import OverwriteMasking\n",
    "from compute_masking import ComputeMasking"
   ]
  },
  {
   "cell_type": "markdown",
   "metadata": {},
   "source": [
    "#### Kreiranje enkodera vesti"
   ]
  },
  {
   "cell_type": "code",
   "execution_count": null,
   "metadata": {},
   "outputs": [],
   "source": [
    "def build_news_encoder(hparams, embedding_layer, seed):\n",
    "    # Parametri pronadjeni na mind dokumentaciji!\n",
    "    filter = 400\n",
    "    window = 3\n",
    "    padding = \"same\" # Sto znaci da ce se pad sastojati od 0 podjednako sa svih strana\n",
    "    title_size = 30\n",
    "    dropout = 0.2\n",
    "\n",
    "    sequences_input_title = keras.Input(shape=(title_size,), dtype=\"int32\")\n",
    "    embedded_sequences_title = embedding_layer(sequences_input_title)\n",
    "\n",
    "    y = layers.Dropout(dropout)(embedded_sequences_title)\n",
    "    y = layers.Conv1D(\n",
    "        filter,\n",
    "        window,\n",
    "        activation='relu',\n",
    "        padding=padding,\n",
    "        bias_initializer=keras.initializers.Zeros(),\n",
    "        kernel_initializer=keras.initializers.glorot_uniform(seed=seed),\n",
    "    )(y)\n",
    "    y = layers.Dropout(dropout)(y)\n",
    "    y = layers.Masking()(\n",
    "        OverwriteMasking()([y, ComputeMasking()(sequences_input_title)])\n",
    "    )\n",
    "    pred_title = AttLayer2(hparams.attention_hidden_dim, seed=seed)(y)\n",
    "    model = keras.Model(sequences_input_title, pred_title, name=\"news_encoder\")\n",
    "    return model"
   ]
  },
  {
   "cell_type": "code",
   "execution_count": null,
   "metadata": {},
   "outputs": [],
   "source": [
    "def build_lstur(hparams, word2vec_embedding):\n",
    "    \"\"\"The main function to create LSTUR's logic. The core of LSTUR\n",
    "    is a user encoder and a news encoder.\n",
    "    Returns:\n",
    "        object: a model used to train.\n",
    "        object: a model used to evaluate and inference.\n",
    "    \"\"\"\n",
    "\n",
    "    his_input_title = keras.Input(\n",
    "        shape=(hparams.his_size, hparams.title_size), dtype=\"int32\"\n",
    "    )\n",
    "    pred_input_title = keras.Input(\n",
    "        shape=(hparams.npratio + 1, hparams.title_size), dtype=\"int32\"\n",
    "    )\n",
    "    pred_input_title_one = keras.Input(\n",
    "        shape=(\n",
    "            1,\n",
    "            hparams.title_size,\n",
    "        ),\n",
    "        dtype=\"int32\",\n",
    "    )\n",
    "    pred_title_reshape = layers.Reshape((hparams.title_size,))(pred_input_title_one)\n",
    "    user_indexes = keras.Input(shape=(1,), dtype=\"int32\")\n",
    "\n",
    "    embedding_layer = layers.Embedding(\n",
    "        word2vec_embedding.shape[0],\n",
    "        hparams.word_emb_dim,\n",
    "        weights=[word2vec_embedding],\n",
    "        trainable=True,\n",
    "    )\n",
    "\n",
    "    titleencoder = build_news_encoder(embedding_layer)\n",
    "\n"
   ]
  }
 ],
 "metadata": {
  "interpreter": {
   "hash": "0e6ded1ef7ef5370ba37d80430014a8a273ff15928f14ddc81eac0e57d5bfb56"
  },
  "kernelspec": {
   "display_name": "Python 3.7.11 ('nm')",
   "language": "python",
   "name": "python3"
  },
  "language_info": {
   "codemirror_mode": {
    "name": "ipython",
    "version": 3
   },
   "file_extension": ".py",
   "mimetype": "text/x-python",
   "name": "python",
   "nbconvert_exporter": "python",
   "pygments_lexer": "ipython3",
   "version": "3.7.11"
  },
  "orig_nbformat": 4
 },
 "nbformat": 4,
 "nbformat_minor": 2
}