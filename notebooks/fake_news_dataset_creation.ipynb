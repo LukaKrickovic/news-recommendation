{
 "cells": [
  {
   "cell_type": "markdown",
   "metadata": {},
   "source": [
    "# Priprema fake news dataset-a\n",
    "\n",
    "### Importovanje"
   ]
  },
  {
   "cell_type": "code",
   "execution_count": 1,
   "metadata": {},
   "outputs": [
    {
     "name": "stderr",
     "output_type": "stream",
     "text": [
      "[nltk_data] Downloading package stopwords to\n",
      "[nltk_data]     /Users/lukakrickovic/nltk_data...\n",
      "[nltk_data]   Package stopwords is already up-to-date!\n"
     ]
    }
   ],
   "source": [
    "import pandas as pd\n",
    "import random\n",
    "import re\n",
    "import nltk\n",
    "from nltk.corpus import stopwords\n",
    "import matplotlib.pyplot as plt\n",
    "\n",
    "\n",
    "nltk.download('stopwords')\n",
    "stopwords = stopwords.words('english')"
   ]
  },
  {
   "cell_type": "markdown",
   "metadata": {},
   "source": [
    "### Ucitavanje i spajanje csv fajlova sa dodatim FAKE atributom da se razlikuje izvor"
   ]
  },
  {
   "cell_type": "code",
   "execution_count": 2,
   "metadata": {},
   "outputs": [
    {
     "name": "stdout",
     "output_type": "stream",
     "text": [
      "<class 'pandas.core.frame.DataFrame'>\n",
      "Int64Index: 44898 entries, 0 to 23480\n",
      "Data columns (total 5 columns):\n",
      " #   Column   Non-Null Count  Dtype \n",
      "---  ------   --------------  ----- \n",
      " 0   title    44898 non-null  object\n",
      " 1   text     44898 non-null  object\n",
      " 2   subject  44898 non-null  object\n",
      " 3   date     44898 non-null  object\n",
      " 4   fake     44898 non-null  bool  \n",
      "dtypes: bool(1), object(4)\n",
      "memory usage: 1.8+ MB\n"
     ]
    }
   ],
   "source": [
    "true_df = pd.read_csv('../datasets/fake-news/True.csv')\n",
    "fake_df = pd.read_csv('../datasets/fake-news/Fake.csv')\n",
    "\n",
    "true_df = true_df.assign(fake = [False for _ in true_df.iterrows()])\n",
    "fake_df = fake_df.assign(fake = [True for _ in fake_df.iterrows()])\n",
    "\n",
    "df = pd.concat([true_df, fake_df])\n",
    "df.info()"
   ]
  },
  {
   "cell_type": "markdown",
   "metadata": {},
   "source": [
    "Posto cemo u buducim eksperimentima koristiti samo algoritme koji ne uzimaju ikakve dodatne parametre sem ulaznog teksta, jedino mozemo da se potrudimo da imamo maksimalno izbalansiranu text kolonu.\n",
    "Ovo mozemo postici posmatranjem subject kolone - disbalans u ovoj koloni moze biti indikator \"subjektivnosti\" naseg modela\n",
    "Takodje, ne treba zanemariti cinjenicu da neki tipovi tekstova imaju vecu verovatnocu da budu maliciozni"
   ]
  },
  {
   "cell_type": "code",
   "execution_count": 3,
   "metadata": {},
   "outputs": [
    {
     "data": {
      "text/plain": [
       "politicsNews       0.251058\n",
       "worldnews          0.225957\n",
       "News               0.201568\n",
       "politics           0.152368\n",
       "left-news          0.099314\n",
       "Government News    0.034968\n",
       "US_News            0.017440\n",
       "Middle-east        0.017328\n",
       "Name: subject, dtype: float64"
      ]
     },
     "execution_count": 3,
     "metadata": {},
     "output_type": "execute_result"
    }
   ],
   "source": [
    "df['subject'].value_counts(normalize=True)"
   ]
  },
  {
   "cell_type": "code",
   "execution_count": 4,
   "metadata": {},
   "outputs": [],
   "source": [
    "true_df = df[df['fake'] == True]\n",
    "fake_df = df[df['fake'] == False]"
   ]
  },
  {
   "cell_type": "code",
   "execution_count": 5,
   "metadata": {},
   "outputs": [
    {
     "data": {
      "image/png": "[encoded data removed]",
      "text/plain": [
       "<Figure size 432x288 with 1 Axes>"
      ]
     },
     "metadata": {},
     "output_type": "display_data"
    }
   ],
   "source": [
    "plt.pie(true_df['subject'].value_counts(normalize=True), labels = true_df['subject'].value_counts(normalize=True).keys())\n",
    "plt.legend()\n",
    "plt.show()"
   ]
  },
  {
   "cell_type": "code",
   "execution_count": 6,
   "metadata": {},
   "outputs": [
    {
     "data": {
      "image/png": "[encoded data removed]",
      "text/plain": [
       "<Figure size 432x288 with 1 Axes>"
      ]
     },
     "metadata": {},
     "output_type": "display_data"
    }
   ],
   "source": [
    "to_plot = fake_df['subject'].value_counts(normalize=True)\n",
    "plt.pie(to_plot, labels = to_plot.keys())\n",
    "plt.legend()\n",
    "plt.show()"
   ]
  },
  {
   "cell_type": "markdown",
   "metadata": {},
   "source": [
    "Na osnovu ovoga vidimo da su najpopularnije kategorije \"politicsNews\", \"worldNews\", \"News\", \"politics\" i slicno.\n",
    "Sve ove teme su medjusobno veoma slicne i definitivno pokazuju prednost politickih tema i odsustvo svih ostalih. Ovakvo stanje ne mozemo ispraviti izbacivanjem redova, ili interpolacijama, nego moramo dodavati redove tako da se poveca raznovrsnost tema.\n",
    "\n",
    "Kada analiziramo podatke podeljene na true i fake, jaz postaje prilicno naglasen, jer se u fake kategoriji pojavljuju samo politicke i world vesti (vesti o globalnoj politickoj sceni)."
   ]
  },
  {
   "cell_type": "code",
   "execution_count": 7,
   "metadata": {},
   "outputs": [
    {
     "data": {
      "text/plain": [
       "bs            601\n",
       "conspiracy    430\n",
       "satire        146\n",
       "junksci       102\n",
       "fake           15\n",
       "Name: type, dtype: int64"
      ]
     },
     "execution_count": 7,
     "metadata": {},
     "output_type": "execute_result"
    }
   ],
   "source": [
    "# https://www.kaggle.com/datasets/hassanamin/textdb3\n",
    "\n",
    "new_df = pd.read_csv('../datasets/fake-news/news_articles.csv')\n",
    "additional_fake_news = new_df[new_df[\"label\"] == \"Fake\"]['type']\n",
    "additional_fake_news.value_counts()"
   ]
  },
  {
   "cell_type": "markdown",
   "metadata": {},
   "source": [
    "Vidimo da dodavanjem ovog dataseta dobijamo i 'conspiracy' kategoriju, kao i 'satire', i 'junkscience', odnosno 'junksci'"
   ]
  },
  {
   "cell_type": "code",
   "execution_count": 8,
   "metadata": {},
   "outputs": [
    {
     "name": "stdout",
     "output_type": "stream",
     "text": [
      "<class 'pandas.core.frame.DataFrame'>\n",
      "Int64Index: 1294 entries, 33 to 2094\n",
      "Data columns (total 4 columns):\n",
      " #   Column   Non-Null Count  Dtype \n",
      "---  ------   --------------  ----- \n",
      " 0   title    1294 non-null   object\n",
      " 1   text     1292 non-null   object\n",
      " 2   subject  1294 non-null   object\n",
      " 3   fake     1294 non-null   bool  \n",
      "dtypes: bool(1), object(3)\n",
      "memory usage: 41.7+ KB\n"
     ]
    }
   ],
   "source": [
    "additional_fake_news = new_df[new_df[\"label\"] == \"Fake\"]\n",
    "additional_fake_news = additional_fake_news.rename(columns={\"type\": \"subject\"})\n",
    "# drop all columns except text and subject \n",
    "additional_fake_news = additional_fake_news.drop(\n",
    "    columns=[\n",
    "        'label',\n",
    "        'author',\n",
    "        'published',\n",
    "        'language',\n",
    "        'site_url',\n",
    "        'main_img_url',\n",
    "        'text_without_stopwords',\n",
    "        'title_without_stopwords',\n",
    "        'hasImage' \n",
    "        ]\n",
    "        )\n",
    "\n",
    "additional_fake_news = additional_fake_news.assign(fake = [True for _ in additional_fake_news.iterrows()])\n",
    "\n",
    "additional_fake_news.info()"
   ]
  },
  {
   "cell_type": "code",
   "execution_count": 9,
   "metadata": {},
   "outputs": [
    {
     "name": "stdout",
     "output_type": "stream",
     "text": [
      "<class 'pandas.core.frame.DataFrame'>\n",
      "Int64Index: 46192 entries, 0 to 2094\n",
      "Data columns (total 5 columns):\n",
      " #   Column   Non-Null Count  Dtype \n",
      "---  ------   --------------  ----- \n",
      " 0   title    46192 non-null  object\n",
      " 1   text     46190 non-null  object\n",
      " 2   subject  46192 non-null  object\n",
      " 3   date     44898 non-null  object\n",
      " 4   fake     46192 non-null  bool  \n",
      "dtypes: bool(1), object(4)\n",
      "memory usage: 1.8+ MB\n"
     ]
    }
   ],
   "source": [
    "df = pd.concat([df, additional_fake_news])\n",
    "df.info()"
   ]
  },
  {
   "cell_type": "code",
   "execution_count": 10,
   "metadata": {},
   "outputs": [
    {
     "name": "stdout",
     "output_type": "stream",
     "text": [
      "Raspodela po temama:\n",
      "News               0.365288\n",
      "politics           0.276125\n",
      "left-news          0.179980\n",
      "Government News    0.063370\n",
      "US_News            0.031604\n",
      "Middle-east        0.031403\n",
      "bs                 0.024258\n",
      "conspiracy         0.017356\n",
      "satire             0.005893\n",
      "junksci            0.004117\n",
      "fake               0.000605\n",
      "Name: subject, dtype: float64\n",
      "\n",
      "poredjenje ukupnog broja redova\n",
      "fake / true: 24775 / 21417\n",
      "Treba da dodamo: 3358 redova\n"
     ]
    }
   ],
   "source": [
    "print('Raspodela po temama:')\n",
    "print(df[df['fake'] == True]['subject'].value_counts(normalize=True))\n",
    "print()\n",
    "print('poredjenje ukupnog broja redova')\n",
    "fake_count = df[df['fake'] == True].shape[0]\n",
    "true_count = df[df['fake'] == False].shape[0]\n",
    "print(f\"fake / true: {fake_count} / {true_count}\")\n",
    "needed_row_count = fake_count - true_count\n",
    "print(f'Treba da dodamo: {needed_row_count} redova')"
   ]
  },
  {
   "cell_type": "markdown",
   "metadata": {},
   "source": [
    "Sada kada smo dodali lazne vesti, moramo da dodamo istinite da bismo ponovo imali balansiran skup podataka"
   ]
  },
  {
   "cell_type": "code",
   "execution_count": 11,
   "metadata": {},
   "outputs": [
    {
     "name": "stdout",
     "output_type": "stream",
     "text": [
      "<class 'pandas.core.frame.DataFrame'>\n",
      "RangeIndex: 50000 entries, 0 to 49999\n",
      "Data columns (total 10 columns):\n",
      " #   Column       Non-Null Count  Dtype  \n",
      "---  ------       --------------  -----  \n",
      " 0   Unnamed: 0   50000 non-null  int64  \n",
      " 1   id           50000 non-null  int64  \n",
      " 2   title        50000 non-null  object \n",
      " 3   publication  50000 non-null  object \n",
      " 4   author       43694 non-null  object \n",
      " 5   date         50000 non-null  object \n",
      " 6   year         50000 non-null  float64\n",
      " 7   month        50000 non-null  float64\n",
      " 8   url          0 non-null      float64\n",
      " 9   content      50000 non-null  object \n",
      "dtypes: float64(3), int64(2), object(5)\n",
      "memory usage: 3.8+ MB\n"
     ]
    }
   ],
   "source": [
    "new_true = pd.read_csv('../datasets/fake-news/articles1.csv')\n",
    "new_true.info()"
   ]
  },
  {
   "cell_type": "markdown",
   "metadata": {},
   "source": [
    "Na prvi pogled, ovaj dataset nam moze biti veoma koristan za diverzifikaciju realnih vesti, **ali** nema kolonu subject.\n",
    "\n",
    "Ovo je odlicna prilika da isprobamo LDA za izvlacenje tema iz kolone 'content'\n",
    "\n",
    "Notebook uz pomoc koje smo ovo odradili je 'lda.ipynb' "
   ]
  },
  {
   "cell_type": "code",
   "execution_count": 12,
   "metadata": {},
   "outputs": [
    {
     "name": "stdout",
     "output_type": "stream",
     "text": [
      "<class 'pandas.core.frame.DataFrame'>\n",
      "RangeIndex: 50000 entries, 0 to 49999\n",
      "Data columns (total 2 columns):\n",
      " #   Column  Non-Null Count  Dtype \n",
      "---  ------  --------------  ----- \n",
      " 0   title   50000 non-null  object\n",
      " 1   text    50000 non-null  object\n",
      "dtypes: object(2)\n",
      "memory usage: 781.4+ KB\n"
     ]
    }
   ],
   "source": [
    "# new_true = new_true.sample(n=needed_row_count)\n",
    "new_true = new_true.drop(columns=['publication', 'url', 'author', 'date', 'year', 'month', 'Unnamed: 0', 'id'])\n",
    "\n",
    "# rename content to text in new_true\n",
    "new_true = new_true.rename(columns={\"content\": \"text\"})\n",
    "\n",
    "# new_true = new_true.drop(columns=['Unnamed: 0'])\n",
    "new_true.info()\n",
    "new_true = new_true.assign(fake = [False for _ in new_true.iterrows()])\n",
    "new_true = new_true.assign(subject = ['various' for _ in new_true.iterrows()])"
   ]
  },
  {
   "cell_type": "markdown",
   "metadata": {},
   "source": [
    "Kako bismo spojili nas novi true dataset sa starim, tako da se zadrzi po 50% i od jednog i od drugog, moracemo ponovo da razdvojimo na true i false dataframe-ove, pa da ih konkateniramo"
   ]
  },
  {
   "cell_type": "code",
   "execution_count": 13,
   "metadata": {},
   "outputs": [],
   "source": [
    "import numpy as np\n",
    "\n",
    "true_subset = df[df['fake'] == False]\n",
    "fake_subset = df[df['fake'] == True]\n",
    "\n",
    "# Postavljamo da ukupno treba da bude jednak broj true i fake naslova\n",
    "total_true_count = fake_subset.shape[0] \n",
    "\n",
    "drop_indices = np.random.choice(true_subset.shape[0], int(true_subset.shape[0] / 2), replace=False)\n",
    "true_subset = true_subset.drop(drop_indices)\n",
    "\n",
    "drop_new_subset_indicies = np.random.choice(new_true.shape[0], new_true.shape[0]+ true_subset.shape[0] - total_true_count, replace=False)\n",
    "new_true_subset = new_true.drop(drop_new_subset_indicies)\n",
    "\n",
    "true_subset = pd.concat([true_subset, new_true_subset])\n",
    "df = pd.concat([true_subset, fake_subset])"
   ]
  },
  {
   "cell_type": "code",
   "execution_count": 14,
   "metadata": {},
   "outputs": [
    {
     "data": {
      "text/plain": [
       "various         0.567750\n",
       "politicsNews    0.226075\n",
       "worldnews       0.206176\n",
       "Name: subject, dtype: float64"
      ]
     },
     "execution_count": 14,
     "metadata": {},
     "output_type": "execute_result"
    }
   ],
   "source": [
    "df[df['fake'] == False]['subject'].value_counts(normalize=True)"
   ]
  },
  {
   "cell_type": "markdown",
   "metadata": {},
   "source": [
    "Iako smo anotirali sa 'various' u okviru ovog notebooka, znamo iz 'lda.ipynb' da je ovaj dataset prilicno raznolik, te da smo sa 56% dodatih tekstova drasticno povecali raznolikost i izbalansirali ovaj dataset.\n",
    "\n",
    "Proveravamo jos jednom da su true i fake barem priblizno jednaki po velicinama"
   ]
  },
  {
   "cell_type": "code",
   "execution_count": 15,
   "metadata": {},
   "outputs": [
    {
     "data": {
      "image/png": "[encoded data removed]",
      "text/plain": [
       "<Figure size 432x288 with 1 Axes>"
      ]
     },
     "metadata": {},
     "output_type": "display_data"
    },
    {
     "name": "stdout",
     "output_type": "stream",
     "text": [
      "TRUE: 50.0%, FAKE: 50.0%\n"
     ]
    }
   ],
   "source": [
    "true_count = df[df['fake'] == False].shape[0]\n",
    "fake_count = df[df['fake'] == True].shape[0]\n",
    "\n",
    "plt.pie(np.array([true_count, fake_count]), labels=['true', 'fake'])\n",
    "plt.legend()\n",
    "plt.show()\n",
    "print(f'TRUE: {100 * true_count / (true_count + fake_count)}%, FAKE: {100 * fake_count / (true_count + fake_count)}%')"
   ]
  },
  {
   "cell_type": "code",
   "execution_count": 16,
   "metadata": {},
   "outputs": [],
   "source": [
    "df.to_csv('../datasets/fake-news/balansed_fake_news_dataset.csv', index=False)"
   ]
  }
 ],
 "metadata": {
  "interpreter": {
   "hash": "0e6ded1ef7ef5370ba37d80430014a8a273ff15928f14ddc81eac0e57d5bfb56"
  },
  "kernelspec": {
   "display_name": "Python 3.7.11 ('nm')",
   "language": "python",
   "name": "python3"
  },
  "language_info": {
   "codemirror_mode": {
    "name": "ipython",
    "version": 3
   },
   "file_extension": ".py",
   "mimetype": "text/x-python",
   "name": "python",
   "nbconvert_exporter": "python",
   "pygments_lexer": "ipython3",
   "version": "3.9.12"
  },
  "orig_nbformat": 4
 },
 "nbformat": 4,
 "nbformat_minor": 2
}
